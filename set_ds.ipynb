{
 "cells": [
  {
   "cell_type": "code",
   "execution_count": 1,
   "metadata": {},
   "outputs": [
    {
     "name": "stdout",
     "output_type": "stream",
     "text": [
      "set() <class 'set'>\n"
     ]
    }
   ],
   "source": [
    "# Set Data Structure\n",
    "# Create empty set\n",
    "A=set()\n",
    "print(A,type(A))"
   ]
  },
  {
   "cell_type": "code",
   "execution_count": 2,
   "metadata": {},
   "outputs": [
    {
     "name": "stdout",
     "output_type": "stream",
     "text": [
      "set()\n",
      "{40, 10, 50, 20, 30}\n",
      "{1, 2, 3, 5, 6, 7}\n",
      "{'B', 'C', 'A'}\n",
      "{10, 20, 30}\n",
      "{100, 70, 40, 10, 80, 50, 20, 90, 60, 30}\n"
     ]
    }
   ],
   "source": [
    "# Example of create set using set() function\n",
    "\n",
    "A=set()\n",
    "B=set([10,20,30,40,50])\n",
    "C=set([1,2,3,1,2,3,5,6,7])\n",
    "D=set(\"ABCABC\")\n",
    "E=set((10,20,30,10,20,30))\n",
    "F=set(range(10,110,10))\n",
    "print(A,B,C,D,E,F,sep=\"\\n\")\n"
   ]
  },
  {
   "cell_type": "code",
   "execution_count": 7,
   "metadata": {},
   "outputs": [
    {
     "name": "stdout",
     "output_type": "stream",
     "text": [
      "{50, 20, 40, 10, 30}\n"
     ]
    }
   ],
   "source": [
    "# Reading content of Set\n",
    "A={10,20,30,40,50}\n",
    "print(A)"
   ]
  },
  {
   "cell_type": "code",
   "execution_count": 8,
   "metadata": {},
   "outputs": [
    {
     "name": "stdout",
     "output_type": "stream",
     "text": [
      "50\n",
      "20\n",
      "40\n",
      "10\n",
      "30\n"
     ]
    }
   ],
   "source": [
    "# Reading content from set using for loop\n",
    "for value in A:\n",
    "    print(value)"
   ]
  },
  {
   "cell_type": "code",
   "execution_count": 9,
   "metadata": {},
   "outputs": [
    {
     "name": "stdout",
     "output_type": "stream",
     "text": [
      "50\n",
      "20\n",
      "40\n"
     ]
    }
   ],
   "source": [
    "# Reading content from set using iterator\n",
    "x=iter(A)\n",
    "print(next(x))\n",
    "print(next(x))\n",
    "print(next(x))"
   ]
  },
  {
   "cell_type": "code",
   "execution_count": 10,
   "metadata": {},
   "outputs": [
    {
     "name": "stdout",
     "output_type": "stream",
     "text": [
      "(0, 50)\n",
      "(1, 20)\n",
      "(2, 40)\n"
     ]
    }
   ],
   "source": [
    "# Reading content from set using enumerate\n",
    "y=enumerate(A)\n",
    "t1=next(y)\n",
    "t2=next(y)\n",
    "t3=next(y)\n",
    "print(t1,t2,t3,sep=\"\\n\")"
   ]
  },
  {
   "cell_type": "code",
   "execution_count": 11,
   "metadata": {},
   "outputs": [
    {
     "name": "stdout",
     "output_type": "stream",
     "text": [
      "(0, 50)\n",
      "(1, 20)\n",
      "(2, 40)\n"
     ]
    }
   ],
   "source": [
    "# Reading content from set using enumerate\n",
    "y=enumerate(A)\n",
    "t1=next(y)\n",
    "t2=next(y)\n",
    "t3=next(y)\n",
    "print(t1,t2,t3,sep=\"\\n\")"
   ]
  },
  {
   "cell_type": "code",
   "execution_count": 12,
   "metadata": {},
   "outputs": [
    {
     "name": "stdout",
     "output_type": "stream",
     "text": [
      "jyoti99@gmail.com\n",
      "jyoti2018@gmail.com\n"
     ]
    }
   ],
   "source": [
    "# Write a program to create set of email-id's\n",
    "email_set=set()\n",
    "n=int(input(\"Enter how many email-id's \"))\n",
    "\n",
    "# Adding \n",
    "for i in range(n):\n",
    "    email=input(\"Enter Email-ID :\")\n",
    "    email_set.add(email)\n",
    "\n",
    "# Reading\n",
    "for email in email_set:\n",
    "    print(email)"
   ]
  },
  {
   "cell_type": "markdown",
   "metadata": {},
   "source": [
    "frozenset"
   ]
  },
  {
   "cell_type": "code",
   "execution_count": 14,
   "metadata": {},
   "outputs": [
    {
     "name": "stdout",
     "output_type": "stream",
     "text": [
      "frozenset()\n"
     ]
    }
   ],
   "source": [
    "# Creat frozenset\n",
    "f1=frozenset()\n",
    "print(f1)\n"
   ]
  },
  {
   "cell_type": "code",
   "execution_count": 17,
   "metadata": {},
   "outputs": [
    {
     "name": "stdout",
     "output_type": "stream",
     "text": [
      "{frozenset({10, 11, 12, 13, 14, 15, 16, 17, 18, 19, 20}), frozenset({1, 2, 3, 4, 5, 6, 7, 8, 9, 10})}\n"
     ]
    }
   ],
   "source": [
    "# Example of reading content of inner set\n",
    "A={frozenset(range(1,11)),frozenset(range(10,21))}\n",
    "print(A)\n"
   ]
  },
  {
   "cell_type": "code",
   "execution_count": 18,
   "metadata": {},
   "outputs": [
    {
     "name": "stdout",
     "output_type": "stream",
     "text": [
      "frozenset({10, 11, 12, 13, 14, 15, 16, 17, 18, 19, 20})\n",
      "frozenset({1, 2, 3, 4, 5, 6, 7, 8, 9, 10})\n"
     ]
    }
   ],
   "source": [
    "# Reading elements from Outer Set\n",
    "for S in A:\n",
    "    print(S)"
   ]
  },
  {
   "cell_type": "code",
   "execution_count": 19,
   "metadata": {},
   "outputs": [
    {
     "name": "stdout",
     "output_type": "stream",
     "text": [
      "10 11 12 13 14 15 16 17 18 19 20 \n",
      "1 2 3 4 5 6 7 8 9 10 \n"
     ]
    }
   ],
   "source": [
    "# Reading elements from inner Set\n",
    "for S in A:\n",
    "    for value in S:\n",
    "        print(value,end=' ')\n",
    "    print()"
   ]
  },
  {
   "cell_type": "code",
   "execution_count": 20,
   "metadata": {},
   "outputs": [
    {
     "name": "stdout",
     "output_type": "stream",
     "text": [
      "{1, 2, 10, 12, 13}\n"
     ]
    }
   ],
   "source": [
    "# Write a program to create set of 5 integers, input integer values during runtime\n",
    "\n",
    "A={int(input(\"Enter Value \")) for i in range(5)}\n",
    "print(A)\n"
   ]
  },
  {
   "cell_type": "code",
   "execution_count": 22,
   "metadata": {},
   "outputs": [
    {
     "name": "stdout",
     "output_type": "stream",
     "text": [
      "{'jyoti99@gmail.com', 'A.das21@gmail.com', 's.das897@gmail.com'}\n"
     ]
    }
   ],
   "source": [
    "# Write a program to input n email-id inside set, whose email end with gmail.com\n",
    "n=int(input(\"Enter how many email-id\"))\n",
    "email_set={email for i in range(n) if (email:=input(\"EmailID \"))[-9:]==\"gmail.com\"}\n",
    "print(email_set)\n"
   ]
  },
  {
   "cell_type": "code",
   "execution_count": 25,
   "metadata": {},
   "outputs": [
    {
     "name": "stdout",
     "output_type": "stream",
     "text": [
      "{12, 15}\n",
      "End\n"
     ]
    }
   ],
   "source": [
    "# Write a program to create set with n integers which are divisible with 3\n",
    "\n",
    "n=int(input(\"Enter value of n\"))\n",
    "\n",
    "A={value for i in range(n) if (value:=int(input(\"Enter Value \")))%3==0}\n",
    "print(A)\n",
    "print(\"End\")"
   ]
  }
 ],
 "metadata": {
  "kernelspec": {
   "display_name": "Python 3",
   "language": "python",
   "name": "python3"
  },
  "language_info": {
   "codemirror_mode": {
    "name": "ipython",
    "version": 3
   },
   "file_extension": ".py",
   "mimetype": "text/x-python",
   "name": "python",
   "nbconvert_exporter": "python",
   "pygments_lexer": "ipython3",
   "version": "3.12.7"
  }
 },
 "nbformat": 4,
 "nbformat_minor": 2
}
