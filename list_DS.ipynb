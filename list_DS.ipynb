{
 "cells": [
  {
   "cell_type": "code",
   "execution_count": 4,
   "metadata": {},
   "outputs": [
    {
     "name": "stdout",
     "output_type": "stream",
     "text": [
      "Reading from Left to Right\n",
      "10 20 30 40 50\n",
      "Reading from Right to Left\n",
      "50 40 30 20 10\n"
     ]
    }
   ],
   "source": [
    "# LIST DATA STRUCTRE\n",
    "# Index\n",
    "# EX-1\n",
    "list1=[10,20,30,40,50]\n",
    "print(\"Reading from Left to Right\")\n",
    "print(list1[0],list1[1],list1[2],list1[3],list1[4])\n",
    "print(\"Reading from Right to Left\")\n",
    "print(list1[-1],list1[-2],list1[-3],list1[-4],list1[-5])\n"
   ]
  },
  {
   "cell_type": "code",
   "execution_count": 5,
   "metadata": {},
   "outputs": [
    {
     "name": "stdout",
     "output_type": "stream",
     "text": [
      "[10, 20, 30, 40, 50, 60, 70, 80, 90, 100]\n",
      "Reading from Left to Right +ve index\n",
      "10 20 30 40 50 60 70 80 90 100 \n",
      "Reading from Right to Left -ve index\n",
      "100 90 80 70 60 50 40 30 20 10 \n",
      "Reading from Right to Left using +ve index\n",
      "100 90 80 70 60 50 40 30 20 10 \n",
      "Reading from Left to Right using -ve index\n",
      "10 20 30 40 50 60 70 80 90 100 "
     ]
    }
   ],
   "source": [
    "# EX-2\n",
    "list1=list(range(10,110,10))\n",
    "print(list1)\n",
    "print(\"Reading from Left to Right +ve index\")\n",
    "for i in range(10): # start=0,stop=10,step=1 --> 0 1 2 3 4 5 6 7 ... 9\n",
    "    print(list1[i],end=' ')\n",
    "\n",
    "print()\n",
    "print(\"Reading from Right to Left -ve index\")\n",
    "for i in range(-1,-11,-1): # start=-1,stop=-11,step=-1 --> -1 -2 -3 -4 .... -10\n",
    "    print(list1[i],end=' ')\n",
    "\n",
    "print()\n",
    "print(\"Reading from Right to Left using +ve index\")\n",
    "for i in range(len(list1)-1,-1,-1): # start=9,stop=-1,step=-1 9 8 7 6 5 4 3 2 1 0\n",
    "    print(list1[i],end=' ')\n",
    "\n",
    "print()\n",
    "print(\"Reading from Left to Right using -ve index\")\n",
    "for i in range(-len(list1),0) : # start=-10,stop=0,step=1 --> -10 -9 -8 ... -1\n",
    "    print(list1[i],end=' ')\n",
    "\n"
   ]
  },
  {
   "cell_type": "code",
   "execution_count": null,
   "metadata": {},
   "outputs": [
    {
     "name": "stdout",
     "output_type": "stream",
     "text": [
      "List is [8, 1, 4, 9, 3, 5, 3, 8, 12, 17, 26, 32, 76, 45, 33, 98, 12, 67, 45, 34, 23, 32, 12, 13, 31, 36, 39, 29]\n",
      "Even numbers Count 13\n",
      "Odd numbers Count 15\n"
     ]
    }
   ],
   "source": [
    "# wap count even numbers\n",
    "list1=[8,1,4,9,3,5,3,8,12,17,26,32,76,45,33,98,12,67,45,34,23,32,12,13,31,36,39,29]\n",
    "print(f'List is {list1}')\n",
    "ecount=0\n",
    "for i in range(len(list1)): # start=0,stop=28,step=1 0 1 2 3 4 5 6 7 8 9 ... 27\n",
    "    if list1[i]%2==0:\n",
    "        ecount=ecount+1\n",
    "\n",
    "print(f'Even numbers Count {ecount}')\n",
    "\n",
    "# count odd numbers\n",
    "ocount=0\n",
    "for i in range(len(list1)): # start=0,stop=28,step=1 --> 0 1 2 3 4 5 6 7 8 9 210 ... 27\n",
    "    if list1[i]%2!=0:\n",
    "        ocount=ocount+1\n",
    "\n",
    "print(f'Odd numbers Count {ocount}')\n"
   ]
  },
  {
   "cell_type": "code",
   "execution_count": 9,
   "metadata": {},
   "outputs": [
    {
     "name": "stdout",
     "output_type": "stream",
     "text": [
      "List is [8, 1, 4, 9, 3, 5, 3, 8, 12, 17, 26, 32, 76, 45, 33, 98, 12, 67, 45, 34, 23, 32, 12, 13, 31, 36, 39, 29]\n",
      "Sum of elements 753\n",
      "Avg is 26.89\n"
     ]
    }
   ],
   "source": [
    "# Write a program to find sum,avg of list of items\n",
    "\n",
    "list1=[8,1,4,9,3,5,3,8,12,17,26,32,76,45,33,98,12,67,45,34,23,32,12,13,31,36,39,29]\n",
    "s=0\n",
    "for i in range(len(list1)): # start=0,stop=28,step=-1 -- 0 1 2 3 4 5 6 7 ... 27\n",
    "    s=s+list1[i]\n",
    "\n",
    "print(f'List is {list1}')\n",
    "print(f'Sum of elements {s}')\n",
    "a=s/len(list1)\n",
    "print(f'Avg is {a:.2f}')\n"
   ]
  },
  {
   "cell_type": "code",
   "execution_count": 18,
   "metadata": {},
   "outputs": [
    {
     "name": "stdout",
     "output_type": "stream",
     "text": [
      "List is [1, 5, 9, -6, 0, 0, 0, -4, -6, -4, -10, 40, 50, 60, 0, -12, 0, 20]\n",
      "+ve count 7\n",
      "-ve count 6\n",
      "zero count 5\n",
      "End\n"
     ]
    }
   ],
   "source": [
    "# Slicing\n",
    "#  Wap count Given list +ve,-ve and zeros value\n",
    "\n",
    "list1=[1,5,9,-6,0,0,0,-4,-6,-4,-10,40,50,60,0,-12,0,20]\n",
    "print(f'List is {list1}')\n",
    "pc=0\n",
    "nc=0\n",
    "zc=0\n",
    "for i in range(len(list1)): # 0 1 2 3 4  6 7 8 9\n",
    "    if list1[i]>0:\n",
    "        pc+=1\n",
    "    elif list1[i]<0:\n",
    "        nc+=1\n",
    "    else:\n",
    "        zc+=1\n",
    "\n",
    "print(f\"+ve count {pc}\")\n",
    "print(f\"-ve count {nc}\")\n",
    "print(f\"zero count {zc}\")\n",
    "print(\"End\")\n"
   ]
  },
  {
   "cell_type": "code",
   "execution_count": 16,
   "metadata": {},
   "outputs": [
    {
     "name": "stdout",
     "output_type": "stream",
     "text": [
      "List is [1, 7, 9, 3, 6, 9, 12, 56, 12, 34, 78, 34, 9, 25, 76, 81]\n",
      "Sum of Even Elements 308\n",
      "Sum of Odd Elements 144\n",
      "End\n"
     ]
    }
   ],
   "source": [
    "# Wap print sum of even and odd numbers\n",
    "list1=[1,7,9,3,6,9,12,56,12,34,78,34,9,25,76,81]\n",
    "print(f'List is {list1}')\n",
    "es=0\n",
    "os=0\n",
    "for i in range(len(list1)): # start=0,stop=10,step=1 --> 0 1 2 3 4 5 6 7 8 9\n",
    "    if list1[i]%2==0:\n",
    "       es=es+list1[i]\n",
    "    else:\n",
    "        os=os+list1[i]\n",
    "\n",
    "\n",
    "print(f'Sum of Even Elements {es}')\n",
    "print(f'Sum of Odd Elements {os}')\n",
    "print(\"End\")\n"
   ]
  },
  {
   "cell_type": "code",
   "execution_count": 19,
   "metadata": {},
   "outputs": [
    {
     "name": "stdout",
     "output_type": "stream",
     "text": [
      "7\n",
      "3\n",
      "7\n",
      "Count of prime numbers 3\n",
      "Emd\n"
     ]
    }
   ],
   "source": [
    "#  wap count the prime numbers in list\n",
    "list1=[7,9,3,6,12,54,26,98,7,27,9,76]\n",
    "pc=0\n",
    "for i in range(len(list1)): # range(12) # start=0,stop=12,step=1\n",
    "    value=list1[i]\n",
    "    c=0\n",
    "    for i in range(1,value+1):\n",
    "        if value%i==0:\n",
    "            c=c+1\n",
    "    if c==2:\n",
    "        print(value)\n",
    "        pc+=1\n",
    "\n",
    "\n",
    "print(f'Count of prime numbers {pc}')\n",
    "print(\"Emd\")"
   ]
  },
  {
   "cell_type": "code",
   "execution_count": 20,
   "metadata": {},
   "outputs": [
    {
     "name": "stdout",
     "output_type": "stream",
     "text": [
      "1\n",
      "98\n",
      "1\n",
      "98\n",
      "End\n"
     ]
    }
   ],
   "source": [
    "# Wap find minimum and maximum values in the list.\n",
    "list1=[1,7,9,3,6,12,54,26,98,7,27,9,76]\n",
    "print(min(list1))\n",
    "print(max(list1))\n",
    "\n",
    "min_value=0\n",
    "max_value=0\n",
    "for i in range(len(list1)): # start=0,stop=13,step=1  --> 0 1 2 3 4 5 6 7 8 9 0\n",
    "    if i==0:\n",
    "        min_value=list1[i]\n",
    "        max_value=list1[i]\n",
    "    elif list1[i]<min_value:\n",
    "        min_value=list1[i]\n",
    "    elif list1[i]>max_value:\n",
    "        max_value=list1[i]\n",
    "\n",
    "print(min_value)\n",
    "print(max_value)\n",
    "print(\"End\")"
   ]
  },
  {
   "cell_type": "code",
   "execution_count": 21,
   "metadata": {},
   "outputs": [
    {
     "name": "stdout",
     "output_type": "stream",
     "text": [
      "Before Swaping [12, 35, 9, 56, 24]\n",
      "After Swaping [24, 35, 9, 56, 12]\n",
      "End\n"
     ]
    }
   ],
   "source": [
    "# Wap swap the list\n",
    "list1=[12, 35, 9, 56, 24]\n",
    "print(f'Before Swaping {list1}')\n",
    "a=list1[0]\n",
    "list1[0]=list1[-1]\n",
    "list1[-1]=a\n",
    "print(f'After Swaping {list1}')\n",
    "print(\"End\")"
   ]
  },
  {
   "cell_type": "code",
   "execution_count": 28,
   "metadata": {},
   "outputs": [
    {
     "name": "stdout",
     "output_type": "stream",
     "text": [
      "\n",
      "Results:\n",
      "Total score: 142.0\n",
      "Min score: 12.0\n",
      "Max score: 70.0\n",
      "END\n"
     ]
    }
   ],
   "source": [
    "# Write a program to read the scores of n players and calculate\n",
    "# Total score\n",
    "# Min score\n",
    "# Max score\n",
    "n = int(input(\"Enter the number of players: \"))\n",
    "scores = []\n",
    "# Read scores of n players\n",
    "for i in range(n):\n",
    "    score = float(input(f\"Enter score for player {i+1}: \"))  # Input score for each player\n",
    "    scores.append(score)\n",
    "\n",
    "total_score = sum(scores)  # Calculate the total score\n",
    "min_score = min(scores) # Calculate the minimum score\n",
    "max_score = max(scores) # Calculate the maximum score\n",
    "\n",
    "print(\"\\nResults:\")\n",
    "print(f\"Total score: {total_score}\")\n",
    "print(f\"Min score: {min_score}\")\n",
    "print(f\"Max score: {max_score}\")\n",
    "print(\"END\")\n"
   ]
  },
  {
   "cell_type": "code",
   "execution_count": 31,
   "metadata": {},
   "outputs": [
    {
     "name": "stdout",
     "output_type": "stream",
     "text": [
      "\n",
      "Results:\n",
      "A Grade Students: 2\n",
      "B Grade Students: 1\n",
      "C Grade Students: 1\n",
      "End\n"
     ]
    }
   ],
   "source": [
    "# Write a program read grades of n students and count\n",
    "# A Grade Students\n",
    "# B Grade Students\n",
    "# C Grade Students\n",
    "\n",
    "n = int(input(\"Enter the number of students: \"))\n",
    "a_grade_count = 0\n",
    "b_grade_count = 0\n",
    "c_grade_count = 0\n",
    "\n",
    "# Read grades of n students\n",
    "for i in range(n):\n",
    "    grade = input(f\"Enter grade for student {i+1}: \").strip().upper()  # Read and clean the input\n",
    "    if grade == 'A':\n",
    "        a_grade_count += 1\n",
    "    elif grade == 'B':\n",
    "        b_grade_count += 1\n",
    "    elif grade == 'C':\n",
    "        c_grade_count += 1\n",
    "    else:\n",
    "        print(f\"Invalid grade '{grade}' entered for student {i+1}. Only A, B, C are valid grades.\")\n",
    "print(\"\\nResults:\")\n",
    "print(f\"A Grade Students: {a_grade_count}\")\n",
    "print(f\"B Grade Students: {b_grade_count}\")\n",
    "print(f\"C Grade Students: {c_grade_count}\")\n",
    "print(\"End\")"
   ]
  },
  {
   "cell_type": "code",
   "execution_count": 33,
   "metadata": {},
   "outputs": [
    {
     "name": "stdout",
     "output_type": "stream",
     "text": [
      "\n",
      "Results:\n",
      "Total sales: 7000.0\n",
      "Average sales: 1750.0\n"
     ]
    }
   ],
   "source": [
    "# Write a program to read sales of n years\n",
    "# Calculate total sales\n",
    "# Avg sales\n",
    "n = int(input(\"Enter the number of years: \"))\n",
    "sales = []\n",
    "\n",
    "for i in range(n):\n",
    "    sale = float(input(f\"Enter sales for year {i+1}: \"))\n",
    "    sales.append(sale)\n",
    "\n",
    "total_sales = sum(sales) # Calculate the total sales\n",
    "avg_sales = total_sales / n if n != 0 else 0 # Calculate the average sales( Dont use 0)\n",
    "\n",
    "print(\"\\nResults:\")\n",
    "print(f\"Total sales: {total_sales}\")\n",
    "print(f\"Average sales: {avg_sales}\")\n"
   ]
  },
  {
   "cell_type": "code",
   "execution_count": null,
   "metadata": {},
   "outputs": [
    {
     "name": "stdout",
     "output_type": "stream",
     "text": [
      "\n",
      "Even list: [12, 14]\n",
      "Odd list: [13, 15]\n",
      "End\n"
     ]
    }
   ],
   "source": [
    "# Write a program to read n values inside list\n",
    "# If value is even add inside even list\n",
    "# If value is odd add inside odd list\n",
    "\n",
    "n = int(input(\"Enter the number of values: \"))\n",
    "values = []\n",
    "\n",
    "for i in range(n):\n",
    "    value = int(input(f\"Enter value {i+1}: \"))\n",
    "    values.append(value)\n",
    "# Initialize two empty lists to store even and odd values\n",
    "even_list = []\n",
    "odd_list = [] \n",
    "\n",
    "for value in values:\n",
    "    if value % 2 == 0:\n",
    "        even_list.append(value) # Add to even list\n",
    "    else:\n",
    "        odd_list.append(value) # Add to odd list\n",
    "\n",
    "print(\"\\nEven list:\", even_list)\n",
    "print(\"Odd list:\", odd_list)\n",
    "print(\"End\")"
   ]
  },
  {
   "cell_type": "code",
   "execution_count": null,
   "metadata": {},
   "outputs": [
    {
     "name": "stdout",
     "output_type": "stream",
     "text": [
      "Before Sorting List is [1, 3, 6, 3, 2]\n",
      "After Sorting List is [1, 2, 3, 3, 6]\n",
      "End\n"
     ]
    }
   ],
   "source": [
    "# wap to sort the value using bouble sort\n",
    "list1 = []\n",
    "n = int(input(\"Enter how many values? \"))\n",
    "\n",
    "for i in range(n):\n",
    "    value = int(input(\"Enter value: \"))    \n",
    "    list1.append(value) # Append the entered value to the list\n",
    "print(f'Before Sorting List is {list1}')\n",
    "\n",
    "# Bubble Sort Algorithm: Sorting the list in ascending order\n",
    "for i in range(n):\n",
    "    for j in range(n - 1):\n",
    "        # Compare the current element with the next element\n",
    "        if list1[j] > list1[j + 1]:\n",
    "            # Swap the elements if they are in the wrong order\n",
    "            list1[j], list1[j + 1] = list1[j + 1], list1[j]\n",
    "\n",
    "print(f'After Sorting List is {list1}')\n",
    "print(\"End\")"
   ]
  },
  {
   "cell_type": "code",
   "execution_count": 44,
   "metadata": {},
   "outputs": [
    {
     "name": "stdout",
     "output_type": "stream",
     "text": [
      "--------\n",
      "1 for Push\n",
      "2 for Pop\n",
      "3 for Exit\n",
      "--------\n",
      "12 pushed inside stack\n",
      "--------\n",
      "1 for Push\n",
      "2 for Pop\n",
      "3 for Exit\n",
      "--------\n",
      "13 pushed inside stack\n",
      "--------\n",
      "1 for Push\n",
      "2 for Pop\n",
      "3 for Exit\n",
      "--------\n",
      "14 pushed inside stack\n",
      "--------\n",
      "1 for Push\n",
      "2 for Pop\n",
      "3 for Exit\n",
      "--------\n",
      "14 poped stack\n",
      "--------\n",
      "1 for Push\n",
      "2 for Pop\n",
      "3 for Exit\n",
      "--------\n",
      "End\n"
     ]
    }
   ],
   "source": [
    "#  Wap to show Stack Operations\n",
    "stack=[]\n",
    "\n",
    "while True:\n",
    "    print(\"--------\")\n",
    "    print(\"1 for Push\")\n",
    "    print(\"2 for Pop\")\n",
    "    print(\"3 for Exit\")\n",
    "    print(\"--------\")\n",
    "    opt=int(input(\"Enter your option \"))\n",
    "    if opt==1: # If the user selects Push operation\n",
    "        value=int(input(\"Enter value to push \"))\n",
    "        stack.append(value)\n",
    "        print(f'{value} pushed inside stack')\n",
    "    elif opt==2: # If the user selects Pop operation\n",
    "        value=stack.pop()\n",
    "        print(f'{value} poped stack')\n",
    "    elif opt==3: # If the user selects Exit operation\n",
    "        break\n",
    "print(\"End\")"
   ]
  },
  {
   "cell_type": "code",
   "execution_count": 46,
   "metadata": {},
   "outputs": [
    {
     "name": "stdout",
     "output_type": "stream",
     "text": [
      "[[1, 2, 3], [4, 5, 6], [7, 8, 9]]\n",
      "End\n"
     ]
    }
   ],
   "source": [
    "# Write a program to read 3x3 Matrix and display\n",
    "\n",
    "matrix=[]\n",
    "for i in range(3):\n",
    "    row=[]\n",
    "    for j in range(3):\n",
    "        value=int(input(\"Enter any value \"))\n",
    "        row.append(value) # Append value current row\n",
    "    matrix.append(row) # Append the current row to the matrix\n",
    "\n",
    "print(matrix)\n",
    "print(\"End\")"
   ]
  },
  {
   "cell_type": "code",
   "execution_count": 48,
   "metadata": {},
   "outputs": [
    {
     "name": "stdout",
     "output_type": "stream",
     "text": [
      "\n",
      "Student 1 Marks: [78, 67, 90]\n",
      "Total Marks: 235\n",
      "Average Marks: 78.33\n",
      "\n",
      "Student 2 Marks: [76, 89, 56]\n",
      "Total Marks: 221\n",
      "Average Marks: 73.67\n",
      "\n",
      "Student 3 Marks: [56, 89, 90]\n",
      "Total Marks: 235\n",
      "Average Marks: 78.33\n",
      "End\n"
     ]
    }
   ],
   "source": [
    "# Write a program to read 3 students 3 subject marks\n",
    "# Total marks,avg marks\n",
    "students = []\n",
    "\n",
    "for i in range(3):\n",
    "    row = []\n",
    "    for j in range(3):\n",
    "\n",
    "        sub = int(input(f\"Enter marks for Student {i+1}, Subject {j+1}: \"))\n",
    "        row.append(sub) \n",
    "    students.append(row)\n",
    "# calculate total and average marks\n",
    "for i, student in enumerate(students):\n",
    "    total = sum(student)  # Calculate total marks for the student\n",
    "    avg = total / 3  # Calculate average marks (divided by 3 subjects)\n",
    "    \n",
    "    # Print the student's marks, total, and average\n",
    "    print(f'\\nStudent {i+1} Marks: {student}')\n",
    "    print(f'Total Marks: {total}')\n",
    "    print(f'Average Marks: {avg:.2f}')\n",
    "print(\"End\")\n"
   ]
  },
  {
   "cell_type": "code",
   "execution_count": 56,
   "metadata": {},
   "outputs": [
    {
     "name": "stdout",
     "output_type": "stream",
     "text": [
      "Matrix1 (2D List): [[1, 2], [3, 4]]\n",
      "Matrix2 (1D List): [1, 2, 3, 4]\n",
      "End\n"
     ]
    }
   ],
   "source": [
    "# wap to convert 2d to 1d list\n",
    "matrix1 = [[1, 2], [3, 4]]\n",
    "matrix2 = []\n",
    "\n",
    "for row in matrix1:\n",
    "    for col in row:\n",
    "        matrix2.append(col)  # Add the element to the 1D list\n",
    "\n",
    "print(\"Matrix1 (2D List):\", matrix1)\n",
    "print(\"Matrix2 (1D List):\", matrix2)\n",
    "print(\"End\")"
   ]
  },
  {
   "cell_type": "code",
   "execution_count": 60,
   "metadata": {},
   "outputs": [
    {
     "name": "stdout",
     "output_type": "stream",
     "text": [
      "Matrix2 (2D List): [[1, 2], [3, 4], [5, 6]]\n",
      "End\n"
     ]
    }
   ],
   "source": [
    "# Write a program to convert 1 dim list into 2 dim list\n",
    "\n",
    "matrix1 = [1, 2, 3, 4, 5, 6]\n",
    "# Initialize an empty 2D list (matrix2)\n",
    "matrix2 = []\n",
    "k = 0\n",
    "for i in range(len(matrix1) // 2):\n",
    "    row = [] \n",
    "    for j in range(2):\n",
    "        row.append(matrix1[k])  # Add the current element to the row\n",
    "        k += 1  # Move to the next element in matrix1\n",
    "    matrix2.append(row)\n",
    "print(\"Matrix2 (2D List):\", matrix2)\n",
    "print(\"End\")\n"
   ]
  },
  {
   "cell_type": "code",
   "execution_count": 62,
   "metadata": {},
   "outputs": [
    {
     "name": "stdout",
     "output_type": "stream",
     "text": [
      "Even numbers without comprehension: [6, 8, 10, 12, 14, 16, 18, 20]\n",
      "Even numbers with comprehension: [6, 8, 10, 12, 14, 16, 18, 20]\n",
      "End\n"
     ]
    }
   ],
   "source": [
    "# Write a program to create list of even numbers from M,N\n",
    "M = int(input(\"Enter the value of M: \"))\n",
    "N = int(input(\"Enter the value of N: \"))\n",
    "# Without list comprehension\n",
    "list1 = []\n",
    "for value in range(M, N + 1):\n",
    "    if value % 2 == 0:\n",
    "        list1.append(value)\n",
    "print(\"Even numbers without comprehension:\", list1)\n",
    "# With list comprehension\n",
    "list2 = [value for value in range(M, N + 1) if value % 2 == 0]\n",
    "print(\"Even numbers with comprehension:\", list2)\n",
    "print(\"End\")"
   ]
  },
  {
   "cell_type": "code",
   "execution_count": 63,
   "metadata": {},
   "outputs": [
    {
     "name": "stdout",
     "output_type": "stream",
     "text": [
      "[[1, 1], [1, 1]]\n",
      "[[2, 2], [2, 2]]\n",
      "End\n"
     ]
    }
   ],
   "source": [
    "# Write a program to read 2x2 matrix and display\n",
    "# without comprehension\n",
    "matrix=[]\n",
    "for i in range(2):\n",
    "    row=[]\n",
    "    for j in range(2):\n",
    "        value=int(input(\"Enter value \"))\n",
    "        row.append(value)\n",
    "    matrix.append(row)\n",
    "\n",
    "print(matrix)\n",
    "\n",
    "matrix1=[[int(input(\"Enter value \")) for j in range(2)] for i in range(2)]\n",
    "print(matrix1)\n",
    "print(\"End\")"
   ]
  },
  {
   "cell_type": "code",
   "execution_count": null,
   "metadata": {},
   "outputs": [
    {
     "name": "stdout",
     "output_type": "stream",
     "text": [
      "Enter elements of matrix1 \n",
      "Enter elements of matrix2 \n",
      "Matrix1: [[1, 1], [1, 1]]\n",
      "Matrix2: [[3, 3], [3, 3]]\n",
      "Matrix3 (Sum of Matrix1 and Matrix2): [[4, 4], [4, 4]]\n",
      "End\n"
     ]
    }
   ],
   "source": [
    "# sum of 2 matrices\n",
    "matrix1 = []\n",
    "matrix2 = []\n",
    "matrix3 = []\n",
    "\n",
    "print(\"Enter elements of matrix1 \")\n",
    "for i in range(2):\n",
    "    row = []\n",
    "    for j in range(2):\n",
    "        value = int(input(\"Enter value: \"))  # Get value for matrix1\n",
    "        row.append(value)\n",
    "    matrix1.append(row)  # Append the row to matrix1\n",
    "\n",
    "print(\"Enter elements of matrix2 \")\n",
    "for i in range(2):\n",
    "    row = []\n",
    "    for j in range(2):\n",
    "        value = int(input(\"Enter value: \"))  # Get value for matrix2\n",
    "        row.append(value)\n",
    "    matrix2.append(row)  # Append the row to matrix2\n",
    "\n",
    "# Matrix addition: matrix1 and matrix2\n",
    "for i in range(2):\n",
    "    row = []\n",
    "    for j in range(2):\n",
    "        row.append(matrix1[i][j] + matrix2[i][j])\n",
    "    matrix3.append(row)  # Append the result row to matrix3\n",
    "\n",
    "print(f'Matrix1: {matrix1}')\n",
    "print(f'Matrix2: {matrix2}')\n",
    "print(f'Matrix3 (Sum of Matrix1 and Matrix2): {matrix3}')\n",
    "print(\"End\")"
   ]
  },
  {
   "cell_type": "code",
   "execution_count": null,
   "metadata": {},
   "outputs": [],
   "source": []
  }
 ],
 "metadata": {
  "kernelspec": {
   "display_name": "Python 3",
   "language": "python",
   "name": "python3"
  },
  "language_info": {
   "codemirror_mode": {
    "name": "ipython",
    "version": 3
   },
   "file_extension": ".py",
   "mimetype": "text/x-python",
   "name": "python",
   "nbconvert_exporter": "python",
   "pygments_lexer": "ipython3",
   "version": "3.12.7"
  }
 },
 "nbformat": 4,
 "nbformat_minor": 2
}
