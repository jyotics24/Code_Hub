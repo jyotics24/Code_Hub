{
 "cells": [
  {
   "cell_type": "markdown",
   "metadata": {},
   "source": [
    "CONTROL FLOW"
   ]
  },
  {
   "cell_type": "code",
   "execution_count": 6,
   "metadata": {},
   "outputs": [
    {
     "name": "stdout",
     "output_type": "stream",
     "text": [
      "Sum of 12 and 12 is 24\n"
     ]
    }
   ],
   "source": [
    "# if\n",
    "# Write a program to add only +ve numbers\n",
    "\n",
    "num1=int(input(\"Enter First Number \"))\n",
    "num2=int(input(\"Enter Second Number \"))\n",
    "if num1>=0 and num2>=0:\n",
    "    num3=num1+num2\n",
    "    print(f'Sum of {num1} and {num2} is {num3}')"
   ]
  },
  {
   "cell_type": "code",
   "execution_count": 12,
   "metadata": {},
   "outputs": [
    {
     "name": "stdout",
     "output_type": "stream",
     "text": [
      "ORACLE\n",
      "Python\n",
      "Hello\n",
      "Java\n"
     ]
    }
   ],
   "source": [
    "# pass keyword\n",
    "if 10>2:\n",
    "    pass\n",
    "    print(\"ORACLE\")\n",
    "\n",
    "\n",
    "print(\"Python\")\n",
    "print(\"Hello\")\n",
    "print(\"Java\")\n"
   ]
  },
  {
   "cell_type": "code",
   "execution_count": null,
   "metadata": {},
   "outputs": [],
   "source": []
  },
  {
   "cell_type": "code",
   "execution_count": 25,
   "metadata": {},
   "outputs": [
    {
     "name": "stdout",
     "output_type": "stream",
     "text": [
      "j.das is senior citizen.\n",
      "END\n"
     ]
    }
   ],
   "source": [
    "# if - else\n",
    "# Write a program to check whether a person is senior citizen or not\n",
    "\n",
    "name=input(\"Enter Name :\")\n",
    "age=int(input(\"Enter Age :\"))\n",
    "if age>=60:\n",
    "    print(f'{name} is senior citizen.')\n",
    "else:\n",
    "    print(f'{name} not senior citizen.')\n",
    "print(\"END\")"
   ]
  },
  {
   "cell_type": "code",
   "execution_count": 24,
   "metadata": {},
   "outputs": [
    {
     "name": "stdout",
     "output_type": "stream",
     "text": [
      "244 is 3 digit number \n",
      "END\n"
     ]
    }
   ],
   "source": [
    "# Write a program to check input number is three digit number of not\n",
    "\n",
    "num=int(input(\"Enter any number :\"))\n",
    "if num>=100 and num<=999:\n",
    "    print(f'{num} is 3 digit number ')\n",
    "else:\n",
    "    print(f'{num} is not 3 digit number ')\n",
    "print(\"END\")"
   ]
  },
  {
   "cell_type": "code",
   "execution_count": 23,
   "metadata": {},
   "outputs": [
    {
     "name": "stdout",
     "output_type": "stream",
     "text": [
      "234 is divisible with 2 and 3\n",
      "END\n"
     ]
    }
   ],
   "source": [
    "# Write a program to find input number is divisible by 2 and 3 both\n",
    "\n",
    "num=int(input(\"Enter any number \"))\n",
    "if num%2==0 and num%3==0:\n",
    "    print(f'{num} is divisible with 2 and 3')\n",
    "else:\n",
    "    print(f'{num} is not divisible with 2 and 3')\n",
    "print(\"END\")"
   ]
  },
  {
   "cell_type": "code",
   "execution_count": 21,
   "metadata": {},
   "outputs": [
    {
     "name": "stdout",
     "output_type": "stream",
     "text": [
      "equal\n",
      "END\n"
     ]
    }
   ],
   "source": [
    "# if - elif ... - else\n",
    "# Write a program to find max of 3 numbers\n",
    "\n",
    "n1=int(input(\"Enter first number \"))\n",
    "n2=int(input(\"Enter second number \"))\n",
    "n3=int(input(\"Enter third number \"))\n",
    "\n",
    "if n1>n2 and n1>n3:\n",
    "    print(f'{n1} is max')\n",
    "elif n2>n1 and n2>n3:\n",
    "    print(f'{n2} is max')\n",
    "elif n3>n1 and n3>n2:\n",
    "    print(f'{n3} is max')\n",
    "else:\n",
    "    print(\"equal\")\n",
    "print(\"END\")"
   ]
  },
  {
   "cell_type": "code",
   "execution_count": 29,
   "metadata": {},
   "outputs": [
    {
     "name": "stdout",
     "output_type": "stream",
     "text": [
      "Special Character\n",
      "END\n"
     ]
    }
   ],
   "source": [
    "# Write a program to find input character is alphabet, digit or special char\n",
    "\n",
    "ch=input(\"Enter any character \")\n",
    "if (ch>='A' and ch<='Z') or (ch>='a' and ch<='z'): # Check Alphabet\n",
    "    print(\"Alphabet\")\n",
    "elif ch>='0' and ch<='9':  # Check Digit\n",
    "    print(\"Digit\")\n",
    "else:\n",
    "    print(\"Special Character\")\n",
    "print(\"END\")"
   ]
  },
  {
   "cell_type": "code",
   "execution_count": 39,
   "metadata": {},
   "outputs": [
    {
     "name": "stdout",
     "output_type": "stream",
     "text": [
      "2023 not leap year\n",
      "END \n"
     ]
    }
   ],
   "source": [
    "# Write a program to find input year is leap or not\n",
    "# method-1\n",
    "year=int(input(\"Enter any Year \"))\n",
    "if year%4==0 and year%100!=0: \n",
    "    print(f'{year} is leap year')\n",
    "elif year%400==0:\n",
    "    print(f'{year} is leap year')\n",
    "else:\n",
    "    print(f'{year} not leap year')\n",
    "print(\"END \")\n"
   ]
  },
  {
   "cell_type": "code",
   "execution_count": 38,
   "metadata": {},
   "outputs": [
    {
     "name": "stdout",
     "output_type": "stream",
     "text": [
      "2024 is leap year\n",
      "END\n"
     ]
    }
   ],
   "source": [
    "# Write a program to find input year is leap or not\n",
    "# Method-2\n",
    "year=int(input(\"Enter any Year \"))\n",
    "if (year%4==0 and year%100!=0) or (year%400==0):\n",
    "    print(f'{year} is leap year')\n",
    "else:\n",
    "    print(f'{year} not leap year')\n",
    "print(\"END\")\n"
   ]
  },
  {
   "cell_type": "code",
   "execution_count": null,
   "metadata": {},
   "outputs": [
    {
     "name": "stdout",
     "output_type": "stream",
     "text": [
      "Bill is Rs 150\n"
     ]
    }
   ],
   "source": [
    "# write a pogram to calculate the electric bill.\n",
    "# unit                       Price\n",
    "# 1st 100 unit              No charge Rs-0\n",
    "# 2nd 100 unit              Per unit Rs-5\n",
    "# After 200 unit            Per unit Rs-10\n",
    "\n",
    "unit = int(input(\"Enter The Unit: \"))\n",
    "if unit <= 100:\n",
    "    price = 0  # No charge for the first 100 units\n",
    "elif unit > 100 and unit <= 200:\n",
    "    price = (unit - 100) * 5  # Rs 5 per unit for the next 100 units\n",
    "else:\n",
    "    price = 500 + (unit - 200) * 10  # Rs 10 per unit for units above 200\n",
    "\n",
    "print(f'Bill is Rs {price}')\n",
    "print(\"END\")"
   ]
  },
  {
   "cell_type": "code",
   "execution_count": null,
   "metadata": {},
   "outputs": [
    {
     "name": "stdout",
     "output_type": "stream",
     "text": [
      "Last Digit is Divisible by 3\n",
      "END\n"
     ]
    }
   ],
   "source": [
    "# Write a program to check whether the last digit of a numer is divisible by 3 or not\n",
    "# Ex: 125-->5 last Number.\n",
    "num = int(input(\"Enter any number: \"))\n",
    "d = abs(num) % 10  # Get the last digit of the number\n",
    "if d % 3 == 0:  # Check if the last digit is divisible by 3\n",
    "    print('Last Digit is Divisible by 3')\n",
    "else:\n",
    "    print('Last Digit is not Divisible by 3')\n",
    "print(\"END\")"
   ]
  },
  {
   "cell_type": "code",
   "execution_count": 49,
   "metadata": {},
   "outputs": [
    {
     "name": "stdout",
     "output_type": "stream",
     "text": [
      "Bike Price is 50000 and Tax to be Paid is 2500.0\n",
      "end\n"
     ]
    }
   ],
   "source": [
    "# Write a program to accept the cost price of a bike and display the road tax to be paid according to the following criteria.\n",
    "\n",
    "# Cost price (in Rs)                        Tax\n",
    "# > 100000                                  15%\n",
    "# > 50000 and <= 100000                     10%\n",
    "# <<= 50000                                 5%\n",
    "price = int(input(\"Enter Bike Price: \"))\n",
    "\n",
    "if price > 100000:\n",
    "    tax = price * 15 / 100  # 15% tax for price > 100000\n",
    "elif price > 50000 and price <= 100000:\n",
    "    tax = price * 10 / 100  # 10% tax for price between 50001 and 100000\n",
    "else:\n",
    "    tax = price * 5 / 100   # 5% tax for price <= 50000\n",
    "\n",
    "print(f'Bike Price is {price} and Tax to be Paid is {tax}')\n",
    "print(\"end\")\n"
   ]
  },
  {
   "cell_type": "code",
   "execution_count": 51,
   "metadata": {},
   "outputs": [
    {
     "name": "stdout",
     "output_type": "stream",
     "text": [
      "Salary is 17000, Years of Experience: 6, Bonus: 1360.0\n"
     ]
    }
   ],
   "source": [
    "# A company decide to give bonous to employee to criteria\n",
    "# Time period                       Bonus\n",
    "# More than 10 Year                 10%\n",
    "# >=6 and <=10                      8%\n",
    "# less than 6                       5%\n",
    "\n",
    "salary = int(input(\"Enter Salary: \"))\n",
    "years = int(input(\"Enter Years of Experience: \"))\n",
    "\n",
    "if years > 10:\n",
    "    bonus = salary * 10 / 100  # 10% bonus for experience > 10 years\n",
    "elif 6 <= years <= 10:\n",
    "    bonus = salary * 8 / 100   # 8% bonus for experience between 6 and 10 years (inclusive)\n",
    "else:\n",
    "    bonus = salary * 5 / 100   # 5% bonus for experience <= 5 years\n",
    "\n",
    "print(f\"Salary is {salary}, Years of Experience: {years}, Bonus: {bonus}\")\n"
   ]
  },
  {
   "cell_type": "code",
   "execution_count": 59,
   "metadata": {},
   "outputs": [
    {
     "name": "stdout",
     "output_type": "stream",
     "text": [
      "A\n",
      "B\n",
      "C\n"
     ]
    }
   ],
   "source": [
    "# Nested if\n",
    "# First block\n",
    "if True:\n",
    "    if True:\n",
    "        print(\"A\")\n",
    "    else:\n",
    "        print(\"B\")\n",
    "else:\n",
    "    print(\"C\")\n",
    "\n",
    "# Second block\n",
    "if True:\n",
    "    if False:\n",
    "        print(\"A\")\n",
    "    else:\n",
    "        print(\"B\")\n",
    "else:\n",
    "    print(\"C\")\n",
    "\n",
    "# Third block\n",
    "if False:\n",
    "    if True:\n",
    "        print(\"A\")\n",
    "    else:\n",
    "        print(\"B\")\n",
    "else:\n",
    "    print(\"C\")\n"
   ]
  },
  {
   "cell_type": "code",
   "execution_count": 62,
   "metadata": {},
   "outputs": [
    {
     "name": "stdout",
     "output_type": "stream",
     "text": [
      "Welcome\n"
     ]
    }
   ],
   "source": [
    "# Login Application\n",
    "\n",
    "uname=input(\"UserName :\")\n",
    "pwd=input(\"Password :\")\n",
    "\n",
    "if uname==\"jyoti_cs\":\n",
    "    if pwd==\"jyoti123\":\n",
    "        print(\"Welcome\")\n",
    "    else:\n",
    "        print(\"Invalid Password \")\n",
    "else:\n",
    "    print(\"Invalid Username\")\n"
   ]
  },
  {
   "cell_type": "code",
   "execution_count": 64,
   "metadata": {},
   "outputs": [
    {
     "name": "stdout",
     "output_type": "stream",
     "text": [
      "12 is max\n"
     ]
    }
   ],
   "source": [
    "# Write a program to find max of 3 numbers without using and,or operators\n",
    "\n",
    "n1=int(input(\"Enter first number \"))\n",
    "n2=int(input(\"Enter second number \"))\n",
    "n3=int(input(\"Enter third number \"))\n",
    "if n1>n2 :\n",
    "        if n1>n3:\n",
    "            print(f'{n1} is max')\n",
    "        else:\n",
    "         print(f'{n3} is max')\n",
    "elif n2>n3:\n",
    "    if n2>n1:\n",
    "        print(f'{n2} is max')\n",
    "    else:\n",
    "        print(f'{n1} is max')\n",
    "elif n3>n1:\n",
    "    if n3>n2:\n",
    "        print(f'{n3} is max')\n",
    "    else:\n",
    "        print(f'{n2} is max')\n"
   ]
  },
  {
   "cell_type": "code",
   "execution_count": 67,
   "metadata": {},
   "outputs": [
    {
     "name": "stdout",
     "output_type": "stream",
     "text": [
      "13x1=13\n",
      "13x2=26\n",
      "13x3=39\n",
      "13x4=52\n",
      "13x5=65\n",
      "13x6=78\n",
      "13x7=91\n",
      "13x8=104\n",
      "13x9=117\n",
      "13x10=130\n",
      "end\n"
     ]
    }
   ],
   "source": [
    "# LOOP \n",
    "# while\n",
    "# Write a program print flow-chart a table\n",
    "num=int(input(\"Enter any number :\"))\n",
    "i=1\n",
    "while i<=10:\n",
    "    p=num*i\n",
    "    print(f'{num}x{i}={p}')\n",
    "    i=i+1\n",
    "print(\"end\")\n"
   ]
  },
  {
   "cell_type": "code",
   "execution_count": null,
   "metadata": {},
   "outputs": [
    {
     "name": "stdout",
     "output_type": "stream",
     "text": [
      "Factorial is 24\n",
      "End\n"
     ]
    }
   ],
   "source": [
    "# wap to show factrial of a number.\n",
    "num=int(input(\"Enter any number \"))\n",
    "fact=1\n",
    "i=1\n",
    "while i<=num:\n",
    "    fact=fact*i\n",
    "    i=i+1\n",
    "    \n",
    "print(f'Factorial is {fact}')\n",
    "print(\"End\")"
   ]
  },
  {
   "cell_type": "code",
   "execution_count": 73,
   "metadata": {},
   "outputs": [
    {
     "name": "stdout",
     "output_type": "stream",
     "text": [
      "sum is 55\n",
      "End\n"
     ]
    }
   ],
   "source": [
    "# wap print sum of 1 to 10\n",
    "num=1\n",
    "s=0\n",
    "while num<=10:\n",
    "    s=s+num\n",
    "    num=num+1\n",
    "\n",
    "print(f'sum is {s}')\n",
    "print(\"End\")\n"
   ]
  },
  {
   "cell_type": "code",
   "execution_count": 94,
   "metadata": {},
   "outputs": [
    {
     "name": "stdout",
     "output_type": "stream",
     "text": [
      "The No is - 123\n",
      "Length is - 3\n",
      "End\n"
     ]
    }
   ],
   "source": [
    "# wap to count the length\n",
    "num=int(input(\"Enter any number \"))\n",
    "print(\"The No is -\",num)\n",
    "c=0\n",
    "while num>0:\n",
    "    c=c+1\n",
    "    num=num//10\n",
    "\n",
    "print(f'Length is - {c}')\n",
    "print(\"End\")"
   ]
  },
  {
   "cell_type": "code",
   "execution_count": 93,
   "metadata": {},
   "outputs": [
    {
     "name": "stdout",
     "output_type": "stream",
     "text": [
      "Sum of digits 4\n",
      "End\n"
     ]
    }
   ],
   "source": [
    "# wap print sum of digit of input number\n",
    "num=int(input(\"Enter any number \"))\n",
    "s=0\n",
    "while num>0:\n",
    "    d=num%10\n",
    "    s=s+d\n",
    "    num=num//10\n",
    "\n",
    "print(f'Sum of digits {s}')\n",
    "print(\"End\")\n"
   ]
  },
  {
   "cell_type": "code",
   "execution_count": 92,
   "metadata": {},
   "outputs": [
    {
     "name": "stdout",
     "output_type": "stream",
     "text": [
      "The No is  131\n",
      "\n",
      "131 is not perfect\n",
      "End\n"
     ]
    }
   ],
   "source": [
    "# wap the is perfect or not\n",
    "num=int(input(\"enter any number \"))\n",
    "print(\"The No is \",num)\n",
    "print()\n",
    "i=1\n",
    "s=0\n",
    "while i<num:\n",
    "    r=num%i\n",
    "    if r==0:\n",
    "        s=s+i\n",
    "    i=i+1\n",
    "\n",
    "if s==num:\n",
    "    print(f'{num} is perfect')\n",
    "else:\n",
    "    print(f'{num} is not perfect')\n",
    "print(\"End\")"
   ]
  },
  {
   "cell_type": "code",
   "execution_count": 100,
   "metadata": {},
   "outputs": [
    {
     "name": "stdout",
     "output_type": "stream",
     "text": [
      "No Is : 123\n",
      "reverse number is : 321\n",
      "End\n"
     ]
    }
   ],
   "source": [
    "# Wap to reverse the input no\n",
    "num=int(input(\"Enter any number \"))\n",
    "print(\"No Is :\",num)\n",
    "rev=0\n",
    "while num>0:\n",
    "    d=num%10\n",
    "    rev=(rev*10)+d\n",
    "    num=num//10\n",
    "\n",
    "print(f'reverse number is : {rev}')\n",
    "print(\"End\")\n"
   ]
  },
  {
   "cell_type": "code",
   "execution_count": 104,
   "metadata": {},
   "outputs": [
    {
     "name": "stdout",
     "output_type": "stream",
     "text": [
      "121 is not an Armstrong number\n",
      "End\n"
     ]
    }
   ],
   "source": [
    "# Wap to show amstrong no or not\n",
    "num = int(input(\"Enter any number: \"))\n",
    "num1 = num  # Preserve the original number\n",
    "c = 0\n",
    "\n",
    "while num > 0:\n",
    "    c = c + 1\n",
    "    num = num // 10\n",
    "\n",
    "# Reset the num variable to the original number\n",
    "num = num1\n",
    "s = 0\n",
    "\n",
    "# Calculate the sum of the digits raised to the power of the number of digits\n",
    "while num > 0:\n",
    "    d = num % 10  # Get the last digit\n",
    "    s = s + (d ** c)  # Add the digit raised to the power of the number of digits\n",
    "    num = num // 10  # Remove the last digit\n",
    "\n",
    "# Check if the sum equals the original number\n",
    "if s == num1:\n",
    "    print(f'{num1} is an Armstrong number')\n",
    "else:\n",
    "    print(f'{num1} is not an Armstrong number')\n",
    "print(\"End\")"
   ]
  },
  {
   "cell_type": "code",
   "execution_count": 107,
   "metadata": {},
   "outputs": [
    {
     "name": "stdout",
     "output_type": "stream",
     "text": [
      "0 1 1 2 3 5 8 13 21 \n",
      "End\n"
     ]
    }
   ],
   "source": [
    "# Write a program to generate Fibonacci Series.\n",
    "# 0 1 1 2 3 5 8 … 20 \n",
    "a, b = 0, 1\n",
    "print (a, b, end=' ')\n",
    "while b <= 20:\n",
    "    a, b = b, a + b\n",
    "    print (b, end=' ')\n",
    "print(\"\\nEnd\")"
   ]
  },
  {
   "cell_type": "code",
   "execution_count": 115,
   "metadata": {},
   "outputs": [
    {
     "name": "stdout",
     "output_type": "stream",
     "text": [
      "The sum of even digits in 123456 is: 12\n",
      "End\n"
     ]
    }
   ],
   "source": [
    "# Write a program to print sum of even digits of input number\n",
    "# Ex:123456 - 2+4+6 =12\n",
    "\n",
    "input_num = int(input(\"Enter any number: \"))\n",
    "sum_even = 0  \n",
    "num = input_num \n",
    "\n",
    "while num > 0:\n",
    "    digit = num % 10  #  last digit\n",
    "    if digit % 2 == 0:  # Check if the digit is even\n",
    "        sum_even += digit  # Add the even digit to the sum\n",
    "    num //= 10  # Remove the last digit\n",
    "\n",
    "print(f\"The sum of even digits in {input_num} is: {sum_even}\")\n",
    "print(\"End\")"
   ]
  },
  {
   "cell_type": "code",
   "execution_count": 118,
   "metadata": {},
   "outputs": [
    {
     "name": "stdout",
     "output_type": "stream",
     "text": [
      "The sum of the odd digits in 123456 is: 9\n",
      "End\n"
     ]
    }
   ],
   "source": [
    "# Write a program to print sum of odd digits of input number\n",
    "# Ex:123456 - 1+3+5 = 9\n",
    "input_num = input(\"Enter a number: \")\n",
    "sum_odd = 0 \n",
    "num = int(input_num)\n",
    "# Process each digit of the number\n",
    "while num > 0:\n",
    "    digit = num % 10  # last digit\n",
    "    if digit % 2 != 0:  #  digit is odd\n",
    "        sum_odd += digit  # Add the odd digit to the sum\n",
    "    num //= 10  # Remove the last digit\n",
    "print(f\"The sum of the odd digits in {input_num} is: {sum_odd}\")\n",
    "print(\"End\")"
   ]
  },
  {
   "cell_type": "code",
   "execution_count": 154,
   "metadata": {},
   "outputs": [
    {
     "name": "stdout",
     "output_type": "stream",
     "text": [
      "1x1=1\n",
      "1x2=2\n",
      "1x3=3\n",
      "1x4=4\n",
      "1x5=5\n",
      "1x6=6\n",
      "1x7=7\n",
      "1x8=8\n",
      "1x9=9\n",
      "1x10=10\n",
      "2x1=2\n",
      "2x2=4\n",
      "2x3=6\n",
      "2x4=8\n",
      "2x5=10\n",
      "2x6=12\n",
      "2x7=14\n",
      "2x8=16\n",
      "2x9=18\n",
      "2x10=20\n",
      "3x1=3\n",
      "3x2=6\n",
      "3x3=9\n",
      "3x4=12\n",
      "3x5=15\n",
      "3x6=18\n",
      "3x7=21\n",
      "3x8=24\n",
      "3x9=27\n",
      "3x10=30\n",
      "4x1=4\n",
      "4x2=8\n",
      "4x3=12\n",
      "4x4=16\n",
      "4x5=20\n",
      "4x6=24\n",
      "4x7=28\n",
      "4x8=32\n",
      "4x9=36\n",
      "4x10=40\n",
      "5x1=5\n",
      "5x2=10\n",
      "5x3=15\n",
      "5x4=20\n",
      "5x5=25\n",
      "5x6=30\n",
      "5x7=35\n",
      "5x8=40\n",
      "5x9=45\n",
      "5x10=50\n"
     ]
    }
   ],
   "source": [
    "# Nested While\n",
    "# Write a program to print tables from 1 to 5 using nested while\n",
    "\n",
    "num=1\n",
    "while num<=5:\n",
    "    i=1\n",
    "    while i<=10:\n",
    "        p=num*i\n",
    "        print(f'{num}x{i}={p}')\n",
    "        i=i+1\n",
    "\n",
    "    num=num+1"
   ]
  },
  {
   "cell_type": "code",
   "execution_count": 156,
   "metadata": {},
   "outputs": [
    {
     "name": "stdout",
     "output_type": "stream",
     "text": [
      "factorial of 1 is 1\n",
      "factorial of 2 is 2\n",
      "factorial of 3 is 6\n",
      "factorial of 4 is 24\n",
      "factorial of 5 is 120\n",
      "End\n"
     ]
    }
   ],
   "source": [
    "# Write a program to generate factorials of numbers from 1 to 5\n",
    "\n",
    "num=1\n",
    "while num<=5:\n",
    "    fact=1\n",
    "    i=1\n",
    "    while i<=num:\n",
    "        fact=fact*i\n",
    "        i=i+1\n",
    "\n",
    "    print(f'factorial of {num} is {fact}')\n",
    "    num=num+1\n",
    "print(\"End\")"
   ]
  },
  {
   "cell_type": "code",
   "execution_count": null,
   "metadata": {},
   "outputs": [],
   "source": []
  },
  {
   "cell_type": "code",
   "execution_count": 122,
   "metadata": {},
   "outputs": [
    {
     "name": "stdout",
     "output_type": "stream",
     "text": [
      "The string is : JYOTI_CS_24\n",
      "Alphabet Count: 7\n",
      "Digit Count: 2\n",
      "Special Character Count: 2\n",
      "End\n"
     ]
    }
   ],
   "source": [
    "# for loop\n",
    "# Write a program to count alphabets, digits and special characters in input string\n",
    "\n",
    "str1 = input(\"Enter any string: \")\n",
    "ac = 0  # Alphabet\n",
    "dc = 0  # Digit\n",
    "sc = 0  # Special character\n",
    "for ch in str1:\n",
    "    if ch.isalpha():  # Check if character is an alphabet isalpha()\n",
    "        ac += 1\n",
    "    elif ch.isdigit():  # Check if character is a digit isdigit()\n",
    "        dc += 1\n",
    "    else:\n",
    "        sc += 1  # If it's neither an alphabet nor a digit, it's a special character\n",
    "print(\"The string is :\",str1)\n",
    "print(f'Alphabet Count: {ac}')\n",
    "print(f'Digit Count: {dc}')\n",
    "print(f'Special Character Count: {sc}')\n",
    "print(\"End\")\n"
   ]
  },
  {
   "cell_type": "code",
   "execution_count": null,
   "metadata": {},
   "outputs": [
    {
     "name": "stdout",
     "output_type": "stream",
     "text": [
      "Original String: jyoti khuntia\n",
      "Uppercase String: JYOTI KHUNTIA\n",
      "End\n"
     ]
    }
   ],
   "source": [
    "# Write a program to input string and convert into uppercase\n",
    "# Without using upper()\n",
    "str1 = input(\"Enter any string: \")\n",
    "str2 = ''\n",
    "\n",
    "for ch in str1:\n",
    "    if 'a' <= ch <= 'z':  # Check if the character is lowercase\n",
    "        str2 += chr(ord(ch) - 32)  # Convert it to uppercase\n",
    "    else:\n",
    "        str2 += ch  # Add the character unchanged if it's not lowercase\n",
    "\n",
    "print(f\"Original String: {str1}\")\n",
    "print(f\"Uppercase String: {str2}\")\n",
    "\n",
    "print(\"End\")\n"
   ]
  },
  {
   "cell_type": "code",
   "execution_count": null,
   "metadata": {},
   "outputs": [
    {
     "name": "stdout",
     "output_type": "stream",
     "text": [
      "Original String: JYOTI KHUNTIA\n",
      "Lowercase String: jyoti khuntia\n",
      "End\n"
     ]
    }
   ],
   "source": [
    "# Write a program to input string and convert into lowercase\n",
    "# without using lower()\n",
    "str1 = input(\"Enter any string: \")\n",
    "str2 = ''  # Empty string\n",
    "\n",
    "for ch in str1:\n",
    "    if 'A' <= ch <= 'Z':  # Check if the character is an uppercase letter\n",
    "        str2 += chr(ord(ch) + 32)  # Convert to lowercase by adjusting the ASCII value\n",
    "    else:\n",
    "        str2 += ch  # If it's already lowercase or non-alphabet, keep it unchanged\n",
    "\n",
    "print(f\"Original String: {str1}\")\n",
    "print(f\"Lowercase String: {str2}\")\n",
    "print(\"End\")"
   ]
  },
  {
   "cell_type": "code",
   "execution_count": 135,
   "metadata": {},
   "outputs": [
    {
     "name": "stdout",
     "output_type": "stream",
     "text": [
      "1x1=1\n",
      "1x2=2\n",
      "1x3=3\n",
      "1x4=4\n",
      "1x5=5\n",
      "2x1=2\n",
      "2x2=4\n",
      "2x3=6\n",
      "2x4=8\n",
      "2x5=10\n",
      "3x1=3\n",
      "3x2=6\n",
      "3x3=9\n",
      "3x4=12\n",
      "3x5=15\n",
      "4x1=4\n",
      "4x2=8\n",
      "4x3=12\n",
      "4x4=16\n",
      "4x5=20\n",
      "5x1=5\n",
      "5x2=10\n",
      "5x3=15\n",
      "5x4=20\n",
      "5x5=25\n",
      "End\n"
     ]
    }
   ],
   "source": [
    "# Nested Loops\n",
    "# Write a program to generate tables from 1 to 10\n",
    "\n",
    "for num in range(1,6): # start=1,stop=6,step=1 --> 1 2 3 4 5\n",
    "    for i in range(1,6): # start=1,stop=6,step=1 --> 1 2 3 4 5\n",
    "        p=num*i\n",
    "        print(f'{num}x{i}={p}')\n",
    "print(\"End\")"
   ]
  },
  {
   "cell_type": "code",
   "execution_count": 137,
   "metadata": {},
   "outputs": [
    {
     "name": "stdout",
     "output_type": "stream",
     "text": [
      "1-->1\n",
      "2-->2\n",
      "3-->6\n",
      "4-->24\n",
      "5-->120\n",
      "6-->720\n",
      "7-->5040\n",
      "8-->40320\n",
      "9-->362880\n",
      "10-->3628800\n",
      "End\n"
     ]
    }
   ],
   "source": [
    "# write a program to generate factorial of 1 to 10\n",
    "for num in range(1,11): # start=1,stop=11,step=1 --> 1 2 3 4 5 6 7 8 9 10\n",
    "    fact=1\n",
    "    for i in range(1,num+1): # start=1,stop=5,step=1 --> 1 2 3 4\n",
    "        fact=fact*i\n",
    "    print(f'{num}-->{fact}')\n",
    "print(\"End\")"
   ]
  },
  {
   "cell_type": "code",
   "execution_count": 139,
   "metadata": {},
   "outputs": [
    {
     "name": "stdout",
     "output_type": "stream",
     "text": [
      "3\n",
      "5\n",
      "7\n",
      "11\n",
      "13\n",
      "17\n",
      "19\n",
      "23\n",
      "29\n",
      "31\n",
      "37\n",
      "41\n",
      "43\n",
      "47\n",
      "End\n"
     ]
    }
   ],
   "source": [
    "# Write a program to generate prime numbers from 3 to 50\n",
    "\n",
    "for num in range(3,51): # start=3,stop=51,step=1 --> 3 4 5 6 7 8 9 10 ... 50\n",
    "    c=0\n",
    "    for i in range(1,num+1):\n",
    "        if num%i==0:\n",
    "            c=c+1\n",
    "\n",
    "    if c==2:\n",
    "          print(num)\n",
    "print(\"End\")"
   ]
  },
  {
   "cell_type": "code",
   "execution_count": null,
   "metadata": {},
   "outputs": [
    {
     "name": "stdout",
     "output_type": "stream",
     "text": [
      "1 1 1 1 1 \n",
      "2 2 2 2 2 \n",
      "3 3 3 3 3 \n",
      "4 4 4 4 4 \n",
      "5 5 5 5 5 \n",
      "End\n"
     ]
    }
   ],
   "source": [
    "# Ex-1\n",
    "# Write a program to print the following output\n",
    "# 1 1 1 1 1\n",
    "# 2 2 2 2 2\n",
    "# 3 3 3 3 3\n",
    "# 4 4 4 4 4\n",
    "# 5 5 5 5 5\n",
    "for i in range(1,6):\n",
    "    for j in range(1,6):\n",
    "        print(i,end=' ')\n",
    "    print()"
   ]
  },
  {
   "cell_type": "code",
   "execution_count": 144,
   "metadata": {},
   "outputs": [
    {
     "name": "stdout",
     "output_type": "stream",
     "text": [
      "5 5 5 5 5 \n",
      "4 4 4 4 4 \n",
      "3 3 3 3 3 \n",
      "2 2 2 2 2 \n",
      "1 1 1 1 1 \n"
     ]
    }
   ],
   "source": [
    "# Ex-2\n",
    "# 5 5 5 5 5\n",
    "# 4 4 4 4 4\n",
    "# 3 3 3 3 3\n",
    "# 2 2 2 2 2\n",
    "# 1 1 1 1 1\n",
    "for i in range(5,0,-1):\n",
    "   for j in range(1,6):\n",
    "      print(i,end=' ')\n",
    "   print()"
   ]
  },
  {
   "cell_type": "code",
   "execution_count": 145,
   "metadata": {},
   "outputs": [
    {
     "name": "stdout",
     "output_type": "stream",
     "text": [
      "1 1 1 1 1 \n",
      "$ $ $ $ $ \n",
      "3 3 3 3 3 \n",
      "$ $ $ $ $ \n",
      "5 5 5 5 5 \n"
     ]
    }
   ],
   "source": [
    "# Ex-3\n",
    "# 1 1 1 1 1 \n",
    "# $ $ $ $ $\n",
    "# 3 3 3 3 3\n",
    "# $ $ $ $ $\n",
    "# 5 5 5 5 5\n",
    "for i in range(1,6):\n",
    "   for j in range(1,6):\n",
    "        if i%2==0:\n",
    "            print(\"$\",end=' ')\n",
    "        else:\n",
    "            print(i,end=' ')\n",
    "   print()\n"
   ]
  },
  {
   "cell_type": "code",
   "execution_count": 146,
   "metadata": {},
   "outputs": [
    {
     "name": "stdout",
     "output_type": "stream",
     "text": [
      "1 2 3 4 5 \n",
      "1 2 3 4 5 \n",
      "1 2 3 4 5 \n",
      "1 2 3 4 5 \n",
      "1 2 3 4 5 \n"
     ]
    }
   ],
   "source": [
    "# Ex-4\n",
    "#1 2 3 4 5 \n",
    "#1 2 3 4 5 \n",
    "#1 2 3 4 5 \n",
    "#1 2 3 4 5 \n",
    "#1 2 3 4 5\n",
    "for i in range(1,6):\n",
    "   for j in range(1,6):\n",
    "      print(j,end=' ')\n",
    "   print()"
   ]
  },
  {
   "cell_type": "code",
   "execution_count": 148,
   "metadata": {},
   "outputs": [
    {
     "name": "stdout",
     "output_type": "stream",
     "text": [
      "5 4 3 2 1 \n",
      "5 4 3 2 1 \n",
      "5 4 3 2 1 \n",
      "5 4 3 2 1 \n",
      "5 4 3 2 1 \n"
     ]
    }
   ],
   "source": [
    "# Ex-5\n",
    "#5 4 3 2 1 \n",
    "#5 4 3 2 1 \n",
    "#5 4 3 2 1 \n",
    "#5 4 3 2 1 \n",
    "#5 4 3 2 1\n",
    "for i in range(1,6):\n",
    "    for j in range(5,0,-1):\n",
    "       print(j,end=' ')\n",
    "    print()"
   ]
  },
  {
   "cell_type": "code",
   "execution_count": 149,
   "metadata": {},
   "outputs": [
    {
     "name": "stdout",
     "output_type": "stream",
     "text": [
      "1 \n",
      "2 2 \n",
      "3 3 3 \n",
      "4 4 4 4 \n",
      "5 5 5 5 5 \n"
     ]
    }
   ],
   "source": [
    "# Ex-6\n",
    "#1 \n",
    "#2 2 \n",
    "#3 3 3 \n",
    "#4 4 4 4 \n",
    "#5 5 5 5 5\n",
    "for i in range(1,6):\n",
    "   for j in range(1,i+1):\n",
    "      print(i,end=' ')\n",
    "   print()\n"
   ]
  },
  {
   "cell_type": "code",
   "execution_count": 150,
   "metadata": {},
   "outputs": [
    {
     "name": "stdout",
     "output_type": "stream",
     "text": [
      "5 5 5 5 5 \n",
      "4 4 4 4 \n",
      "3 3 3 \n",
      "2 2 \n",
      "1 \n"
     ]
    }
   ],
   "source": [
    "# Ex-7\n",
    "#5 5 5 5 5 \n",
    "#4 4 4 4 \n",
    "# 3 3 \n",
    "#2 2 \n",
    "#1\n",
    "for i in range(5,0,-1):\n",
    "   for j in range(1,i+1):\n",
    "      print(i,end=' ')\n",
    "   print()"
   ]
  },
  {
   "cell_type": "code",
   "execution_count": 151,
   "metadata": {},
   "outputs": [
    {
     "name": "stdout",
     "output_type": "stream",
     "text": [
      "* \n",
      "* * \n",
      "* * * \n",
      "* * * * \n",
      "* * * * * \n"
     ]
    }
   ],
   "source": [
    "# Ex-8\n",
    "#* \n",
    "#* * \n",
    "#* * * \n",
    "#* * * * \n",
    "#* * * * *\n",
    "for i in range(1,6):\n",
    "   for j in range(1,i+1):\n",
    "      print(\"*\",end=' ')\n",
    "   print()"
   ]
  },
  {
   "cell_type": "code",
   "execution_count": 158,
   "metadata": {},
   "outputs": [
    {
     "name": "stdout",
     "output_type": "stream",
     "text": [
      "Hello\n",
      "Bye\n",
      "End\n"
     ]
    }
   ],
   "source": [
    "# Branching Statement\n",
    "# Break\n",
    "for i in range(1,11):\n",
    "    print(\"Hello\")\n",
    "    break\n",
    "\n",
    "i=1\n",
    "while i<=10:\n",
    "    print(\"Bye\")\n",
    "    i=i+1\n",
    "    break\n",
    "print(\"End\")"
   ]
  },
  {
   "cell_type": "code",
   "execution_count": 161,
   "metadata": {},
   "outputs": [
    {
     "name": "stdout",
     "output_type": "stream",
     "text": [
      "End\n"
     ]
    }
   ],
   "source": [
    "# Write a program to input numbers until user input -ve number\n",
    "# -ve to stop.\n",
    "while True:\n",
    "    num=int(input(\"Enter any number\"))\n",
    "    if num<0:\n",
    "        break\n",
    "print(\"End\")"
   ]
  },
  {
   "cell_type": "code",
   "execution_count": 166,
   "metadata": {},
   "outputs": [
    {
     "name": "stdout",
     "output_type": "stream",
     "text": [
      "welcome\n",
      "End\n"
     ]
    }
   ],
   "source": [
    "# Write a program to input username and password and until username and password is valid\n",
    "\n",
    "while True:\n",
    "    user=input(\"UserName :\")\n",
    "    pwd=input(\"Password :\")\n",
    "    if user==\"jyoti_cs_24\" and pwd==\"jyoti123\":\n",
    "        print(\"welcome\")\n",
    "        break\n",
    "    else:\n",
    "        print(\"invalid username or password try again...\")\n",
    "print(\"End\")"
   ]
  },
  {
   "cell_type": "code",
   "execution_count": 165,
   "metadata": {},
   "outputs": [
    {
     "name": "stdout",
     "output_type": "stream",
     "text": [
      "11 is prime\n",
      "End\n"
     ]
    }
   ],
   "source": [
    "# write a program to find input number is prime or not\n",
    "\n",
    "num=int(input(\"Enter any number \"))\n",
    "c=0\n",
    "for i in range(1,num+1):\n",
    "    if num%i==0:\n",
    "        c=c+1\n",
    "    if c>2:\n",
    "        break\n",
    "\n",
    "if c==2:\n",
    "    print(f'{num} is prime')\n",
    "else:\n",
    "    print(f'{num} is not prime')\n",
    "print(\"End\")"
   ]
  },
  {
   "cell_type": "code",
   "execution_count": null,
   "metadata": {},
   "outputs": [],
   "source": [
    "# Continue\n",
    "# "
   ]
  }
 ],
 "metadata": {
  "kernelspec": {
   "display_name": "Python 3",
   "language": "python",
   "name": "python3"
  },
  "language_info": {
   "codemirror_mode": {
    "name": "ipython",
    "version": 3
   },
   "file_extension": ".py",
   "mimetype": "text/x-python",
   "name": "python",
   "nbconvert_exporter": "python",
   "pygments_lexer": "ipython3",
   "version": "3.12.7"
  }
 },
 "nbformat": 4,
 "nbformat_minor": 2
}
