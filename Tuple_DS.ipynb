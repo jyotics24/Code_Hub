{
 "cells": [
  {
   "cell_type": "code",
   "execution_count": 25,
   "metadata": {},
   "outputs": [
    {
     "name": "stdout",
     "output_type": "stream",
     "text": [
      "() <class 'tuple'>\n"
     ]
    }
   ],
   "source": [
    "# Tuple Data Structure\n",
    "# Create a empty tuple\n",
    "empty_tuple = ()\n",
    "print(empty_tuple, type(empty_tuple))"
   ]
  },
  {
   "cell_type": "code",
   "execution_count": 24,
   "metadata": {},
   "outputs": [
    {
     "name": "stdout",
     "output_type": "stream",
     "text": [
      "10 <class 'int'>\n",
      "(10,) <class 'tuple'>\n"
     ]
    }
   ],
   "source": [
    "# Case 1: Parentheses without a comma - is integer\n",
    "tuple2 = (10)\n",
    "print(tuple2, type(tuple2))\n",
    "# Case 2: Parentheses with a comma - is tuple\n",
    "tuple2 = (10,)\n",
    "print(tuple2, type(tuple2))\n"
   ]
  },
  {
   "cell_type": "code",
   "execution_count": null,
   "metadata": {},
   "outputs": [
    {
     "name": "stdout",
     "output_type": "stream",
     "text": [
      "Use Index :\n",
      "10 20 30 40 50 60 70 80 90 100 \n",
      "Using Slicing :\n",
      "(10, 20, 30, 40, 50, 60, 70, 80, 90, 100)\n",
      "(100, 90, 80, 70, 60, 50, 40, 30, 20, 10)\n",
      "(10, 30, 50, 70, 90)\n",
      "(30, 40, 50, 60, 70, 80)\n",
      "Use For loop :\n",
      "10 20 30 40 50 60 70 80 90 100 \n",
      "Use iterator :\n",
      "10 20 30\n",
      "Use enumerate :\n",
      "(0, 10) (1, 20) (2, 30)\n"
     ]
    }
   ],
   "source": [
    "# Reading content of tuple\n",
    "t1=(10,20,30,40,50,60,70,80,90,100)\n",
    "# Using index\n",
    "print(\"Use Index :\")\n",
    "for i in range(len(t1)):\n",
    "    print(t1[i],end=' ')\n",
    "print()\n",
    "\n",
    "# using Slicing\n",
    "print(\"Using Slicing :\")\n",
    "a=t1[::1]\n",
    "b=t1[::-1]\n",
    "c=t1[::2]\n",
    "d=t1[2:-2]\n",
    "print(a,b,c,d,sep=\"\\n\")\n",
    "# using for loop\n",
    "print(\"Use For loop :\")\n",
    "for value in t1:\n",
    "    print(value,end=' ')\n",
    "print()\n",
    "# using iterator\n",
    "print(\"Use iterator :\")\n",
    "a=iter(t1)\n",
    "print(next(a),next(a),next(a))\n",
    "# using enumerate\n",
    "print(\"Use enumerate :\") \n",
    "e=enumerate(t1)\n",
    "print(next(e),next(e),next(e))"
   ]
  },
  {
   "cell_type": "code",
   "execution_count": 15,
   "metadata": {},
   "outputs": [
    {
     "name": "stdout",
     "output_type": "stream",
     "text": [
      "(44, 55)\n"
     ]
    }
   ],
   "source": [
    " # wap copy specific elements from one tuple to a new tuple\n",
    "tuple1 = (11, 22, 33, 44, 55, 66)\n",
    "tuple2 = tuple1[3:-1]\n",
    "print(tuple2)"
   ]
  },
  {
   "cell_type": "code",
   "execution_count": 16,
   "metadata": {},
   "outputs": [
    {
     "name": "stdout",
     "output_type": "stream",
     "text": [
      "tuple1: (4, 5, 6)\n",
      "tuple2: (1, 2, 3)\n"
     ]
    }
   ],
   "source": [
    "# wap swap two tuple\n",
    "\n",
    "tuple1 = (1, 2, 3)\n",
    "tuple2 = (4, 5, 6)\n",
    "\n",
    "temp = tuple1 # Use a temp to swap\n",
    "tuple1 = tuple2\n",
    "tuple2 = temp\n",
    "\n",
    "print(\"tuple1:\", tuple1)\n",
    "print(\"tuple2:\", tuple2)\n"
   ]
  },
  {
   "cell_type": "code",
   "execution_count": 18,
   "metadata": {},
   "outputs": [
    {
     "name": "stdout",
     "output_type": "stream",
     "text": [
      "(11, [222, 33], 44, 55)\n"
     ]
    }
   ],
   "source": [
    "# Wap Modify the tuple\n",
    "tuple1 = (11, [22, 33], 44, 55)\n",
    "tuple1[1][0] = 222\n",
    "print(tuple1)"
   ]
  },
  {
   "cell_type": "code",
   "execution_count": 20,
   "metadata": {},
   "outputs": [
    {
     "name": "stdout",
     "output_type": "stream",
     "text": [
      "True\n",
      "End\n"
     ]
    }
   ],
   "source": [
    "# wap check if all items in the tuple are the same\n",
    "def check(t):\n",
    "    return all(i == t[0] for i in t)\n",
    "\n",
    "tuple1 = (45, 45, 45, 45)\n",
    "print(check(tuple1))\n",
    "print(\"End\")"
   ]
  },
  {
   "cell_type": "code",
   "execution_count": 26,
   "metadata": {},
   "outputs": [
    {
     "name": "stdout",
     "output_type": "stream",
     "text": [
      "END\n"
     ]
    }
   ],
   "source": [
    "print(\"END\")"
   ]
  }
 ],
 "metadata": {
  "kernelspec": {
   "display_name": "Python 3",
   "language": "python",
   "name": "python3"
  },
  "language_info": {
   "codemirror_mode": {
    "name": "ipython",
    "version": 3
   },
   "file_extension": ".py",
   "mimetype": "text/x-python",
   "name": "python",
   "nbconvert_exporter": "python",
   "pygments_lexer": "ipython3",
   "version": "3.12.7"
  }
 },
 "nbformat": 4,
 "nbformat_minor": 2
}
