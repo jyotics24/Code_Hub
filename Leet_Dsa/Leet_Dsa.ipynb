{
 "cells": [
  {
   "cell_type": "code",
   "execution_count": 3,
   "metadata": {},
   "outputs": [],
   "source": [
    "# Leet  Array Dsa code.\n",
    "# Two sum\n",
    "# Input: nums = [2,7,11,15], target = 9\n",
    "# Output: [0,1]\n",
    "# Explanation: Because nums[0] + nums[1] == 9, we return [0, 1]\n"
   ]
  },
  {
   "cell_type": "code",
   "execution_count": null,
   "metadata": {},
   "outputs": [
    {
     "name": "stdout",
     "output_type": "stream",
     "text": [
      "[1, 2, 3, 4, 5] Is List.\n",
      "9 is the target input.\n",
      "Indices of the two numbers that add up to the target: [1, 2]\n",
      "End\n"
     ]
    }
   ],
   "source": [
    "# Ex-1 IF Target Value match.\n",
    "class Sum:\n",
    "    def twoSum(self, nums, target):\n",
    "        num_map = {}\n",
    "        \n",
    "        for i, num in enumerate(nums):\n",
    "            complement = target - num  #Calculate the complement (target - current number)\n",
    "\n",
    "            if complement in num_map:\n",
    "                return [num_map[complement], i] # If found, return the indices of the complement and the current number\n",
    "            \n",
    "            num_map[num] = i\n",
    "        return []\n",
    "    \n",
    "nums_input = eval(input(\"Enter the list of numbers (EX-[2, 7, 11, 15]): \"))\n",
    "target_input = int(input(\"Enter the target value (Ex-9): \"))\n",
    "\n",
    "solution = Sum()\n",
    "result = solution.twoSum(nums, target) # call the twoSum method\n",
    "\n",
    "print(f\"{nums_input} Is List.\")\n",
    "print(f\"{target_input} is the target input.\")\n",
    "print(\"Indices of the two numbers that add up to the target:\", result)\n",
    "print(\"End\")"
   ]
  },
  {
   "cell_type": "code",
   "execution_count": null,
   "metadata": {},
   "outputs": [
    {
     "name": "stdout",
     "output_type": "stream",
     "text": [
      "[1, 2, 3, 4] is the list.\n",
      "10 is the target input.\n",
      "No solution found, no two numbers add up to the target.\n",
      "End\n"
     ]
    }
   ],
   "source": [
    "# Ex-2 If Target Value not match.\n",
    "class Sum:\n",
    "    def twoSum(self, nums, target):\n",
    "        num_map = {}\n",
    "        \n",
    "        for i, num in enumerate(nums):\n",
    "            complement = target - num\n",
    "            \n",
    "            if complement in num_map:\n",
    "                return [num_map[complement], i]\n",
    "            \n",
    "            num_map[num] = i    \n",
    "        return []  # Return empty list if no solution is found\n",
    "    \n",
    "nums_input = eval(input(\"Enter the list of numbers (EX-[2, 7, 11, 15]): \"))\n",
    "target_input = int(input(\"Enter the target value (Ex-9): \"))\n",
    "\n",
    "solution = Sum()\n",
    "result = solution.twoSum(nums_input, target_input)  # Call the twoSum method with correct variables\n",
    "\n",
    "print(f\"{nums_input} is the list.\")\n",
    "print(f\"{target_input} is the target input.\")\n",
    "\n",
    "if result:  # Check the target value is avilable or not\n",
    "    print(\"Indices of the two numbers that add up to the target:\", result)\n",
    "else:\n",
    "    print(\"No solution found, no two numbers add up to the target.\")\n",
    "\n",
    "print(\"End\")"
   ]
  },
  {
   "cell_type": "code",
   "execution_count": null,
   "metadata": {},
   "outputs": [],
   "source": []
  }
 ],
 "metadata": {
  "kernelspec": {
   "display_name": "Python 3",
   "language": "python",
   "name": "python3"
  },
  "language_info": {
   "codemirror_mode": {
    "name": "ipython",
    "version": 3
   },
   "file_extension": ".py",
   "mimetype": "text/x-python",
   "name": "python",
   "nbconvert_exporter": "python",
   "pygments_lexer": "ipython3",
   "version": "3.12.7"
  }
 },
 "nbformat": 4,
 "nbformat_minor": 2
}
