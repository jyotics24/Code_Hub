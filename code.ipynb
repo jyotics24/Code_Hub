{
 "cells": [
  {
   "cell_type": "markdown",
   "metadata": {},
   "source": [
    "Python Programming"
   ]
  },
  {
   "cell_type": "code",
   "execution_count": 1,
   "metadata": {},
   "outputs": [
    {
     "name": "stdout",
     "output_type": "stream",
     "text": [
      "a is Type of <class 'int'>\n",
      "\n",
      "b is Type of <class 'float'>\n",
      "\n",
      "c is Type of <class 'complex'>\n",
      "End\n"
     ]
    }
   ],
   "source": [
    "\n",
    "# Write a program to demonstrate different number data types in Python.\n",
    "\n",
    "a=10; #Integer Datatype\n",
    "\n",
    "b=11.5; #Float Datatype\n",
    "\n",
    "c=2.05j; #Complex Number\n",
    "\n",
    "print(\"a is Type of\", type(a)) #prints type of variable a\n",
    "print()\n",
    "print(\"b is Type of\", type (b)) #prints type of variable b\n",
    "print()\n",
    "print(\"c is Type of\", type(c)) #prints type of variable c\n",
    "print(\"End\")"
   ]
  },
  {
   "cell_type": "code",
   "execution_count": 2,
   "metadata": {},
   "outputs": [
    {
     "name": "stdout",
     "output_type": "stream",
     "text": [
      "Addition of a and b = 3\n",
      "Subtraction of a and b = -1\n",
      "Multiplication of a and b = 2\n",
      "Division of a and b = 0.5\n",
      "Remainder of a and b = 1\n",
      "Exponent of a and b = 1\n",
      "Floar division of a and b = 0\n",
      "END\n"
     ]
    }
   ],
   "source": [
    "# Write a program to perform different Arithmetic Operations on numbers in Python.\n",
    "\n",
    "a=int(input(\"Enter a value\")); #input() takes data from console at runtime as string.\n",
    "\n",
    "b=int(input(\"Enter b value\")); #typecast the input string to int.\n",
    "\n",
    "print(\"Addition of a and b =\", a+b)\n",
    "\n",
    "print(\"Subtraction of a and b =\",a-b)\n",
    "\n",
    "print(\"Multiplication of a and b =\",a*b)\n",
    "\n",
    "print(\"Division of a and b =\",a/b)\n",
    "\n",
    "print(\"Remainder of a and b =\",a%b)\n",
    "\n",
    "print(\"Exponent of a and b =\",a**b); #exponent operator (a^b)\n",
    "\n",
    "print(\"Floar division of a and b =\",a//b); # floar division\n",
    "print(\"END\")"
   ]
  },
  {
   "cell_type": "code",
   "execution_count": 8,
   "metadata": {},
   "outputs": [
    {
     "name": "stdout",
     "output_type": "stream",
     "text": [
      "First string is:  JYOTI \n",
      "Second string is:  KHUTNIA\n",
      "concatenations of two strings: JYOTI KHUTNIA\n",
      "Substring of given string: YOT\n",
      "END\n"
     ]
    }
   ],
   "source": [
    "# Write a program to create, concatenate and print a string and accessing sub-string from a given string.'\n",
    "\n",
    "s1=input(\"Enter first String: \")\n",
    "\n",
    "s2=input(\"Enter second String : \")\n",
    "\n",
    "print(\"First string is: \",s1)\n",
    "\n",
    "print(\"Second string is: \",s2)\n",
    "\n",
    "print(\"concatenations of two strings:\",s1+s2)\n",
    "\n",
    "print(\"Substring of given string:\", s1 [1:4])\n",
    "print(\"END\")"
   ]
  },
  {
   "cell_type": "code",
   "execution_count": 4,
   "metadata": {},
   "outputs": [],
   "source": [
    "# Write a program to create,append and remove list in python.\n",
    "# empty list \n",
    "my_list = []\n",
    "#list of integers \n",
    "my_list = [1, 2, 3]\n",
    "#list with mixed data types \n",
    "my_list = [1, \"Hello\", 3.4]"
   ]
  },
  {
   "cell_type": "code",
   "execution_count": 5,
   "metadata": {},
   "outputs": [],
   "source": [
    "# Nested list\n",
    "my_list=[\"mouse\",[6,4,5],['a']]"
   ]
  },
  {
   "cell_type": "code",
   "execution_count": 6,
   "metadata": {},
   "outputs": [
    {
     "name": "stdout",
     "output_type": "stream",
     "text": [
      "[1, 3, 5, 7]\n",
      "\n",
      "[1, 3, 5, 7, 9, 11, 13]\n",
      "End\n"
     ]
    }
   ],
   "source": [
    "#Appending and Extending lists in Python \n",
    "\n",
    "odd=[1, 3, 5]\n",
    "odd.append(7) # Add 7 Using append()\n",
    "print(odd)\n",
    "print()\n",
    "odd.extend([9, 11, 13]) # Add 9,11,13 using extend()\n",
    "print(odd)\n",
    "print(\"End\")"
   ]
  },
  {
   "cell_type": "code",
   "execution_count": 7,
   "metadata": {},
   "outputs": [
    {
     "name": "stdout",
     "output_type": "stream",
     "text": [
      "['p', 'r', 'b', '1', 'e', 'm']\n",
      "['p', 'm']\n"
     ]
    },
    {
     "ename": "NameError",
     "evalue": "name 'my_list' is not defined",
     "output_type": "error",
     "traceback": [
      "\u001b[1;31m---------------------------------------------------------------------------\u001b[0m",
      "\u001b[1;31mNameError\u001b[0m                                 Traceback (most recent call last)",
      "Cell \u001b[1;32mIn[7], line 13\u001b[0m\n\u001b[0;32m      9\u001b[0m \u001b[38;5;28mprint\u001b[39m(my_list)\n\u001b[0;32m     11\u001b[0m \u001b[38;5;28;01mdel\u001b[39;00m my_list \u001b[38;5;66;03m# delete entire list\u001b[39;00m\n\u001b[1;32m---> 13\u001b[0m \u001b[38;5;28mprint\u001b[39m(\u001b[43mmy_list\u001b[49m) \u001b[38;5;66;03m# Name Error: List not defined\u001b[39;00m\n",
      "\u001b[1;31mNameError\u001b[0m: name 'my_list' is not defined"
     ]
    }
   ],
   "source": [
    "# Deleting list item \n",
    "my_list = ['p','r', 'o', 'b', '1', 'e', 'm']\n",
    "\n",
    "# Delete One Item\n",
    "del my_list[2] \n",
    "print(my_list)\n",
    "\n",
    "del my_list[1:5] # Delete Multiple Item \n",
    "print(my_list)\n",
    "\n",
    "del my_list # delete entire list\n",
    "\n",
    "print(my_list) # Name Error: List not defined"
   ]
  },
  {
   "cell_type": "code",
   "execution_count": null,
   "metadata": {},
   "outputs": [
    {
     "name": "stdout",
     "output_type": "stream",
     "text": [
      "Element at index 0: 1\n",
      "Element at index 3: 4\n",
      "Elements from index 1 to 3: (2, 3, 4)\n",
      "Iterating over the tuple:\n",
      "1 2 3 4 5 \n",
      "Element at index 2 (nested tuple): (3, 4, 5)\n",
      "Element at index 2, 1 inside the nested tuple: 4\n",
      "Concatenated tuple: (1, 2, 3, 4)\n",
      "Repeated tuple: (1, 2, 3, 4, 5, 1, 2, 3, 4, 5)\n",
      "3 is in the tuple.\n",
      "Unpacked elements:\n",
      "a = 1 b = 2 c = 3 d = 4 e = 5\n",
      "Length of the tuple: 5\n",
      "Error: 'tuple' object does not support item assignment\n"
     ]
    }
   ],
   "source": [
    "# Write a program to show Different Operation in tuples\n",
    "# 1. Creating a tuple\n",
    "my_tuple = (1, 2, 3, 4, 5)\n",
    "\n",
    "# 2. Accessing elements by index\n",
    "print(\"Element at index 0:\", my_tuple[0])  # Output: 1\n",
    "print(\"Element at index 3:\", my_tuple[3])  # Output: 4\n",
    "\n",
    "# 3. Slicing a tuple\n",
    "print(\"Elements from index 1 to 3:\", my_tuple[1:4])  # Output: (2, 3, 4)\n",
    "\n",
    "# 4. Iterating over a tuple using a for loop\n",
    "print(\"Iterating over the tuple:\")\n",
    "for element in my_tuple:\n",
    "    print(element, end=\" \")  # Output: 1 2 3 4 5\n",
    "print()  # Newline for clean output\n",
    "\n",
    "# 5. Nested tuple\n",
    "nested_tuple = (1, 2, (3, 4, 5), 6)\n",
    "print(\"Element at index 2 (nested tuple):\", nested_tuple[2])  # Output: (3, 4, 5)\n",
    "print(\"Element at index 2, 1 inside the nested tuple:\", nested_tuple[2][1])  # Output: 4\n",
    "\n",
    "# 6. Tuple concatenation\n",
    "tuple1 = (1, 2)\n",
    "tuple2 = (3, 4)\n",
    "combined_tuple = tuple1 + tuple2\n",
    "print(\"Concatenated tuple:\", combined_tuple)  # Output: (1, 2, 3, 4)\n",
    "\n",
    "# 7. Tuple repetition\n",
    "repeated_tuple = my_tuple * 2\n",
    "print(\"Repeated tuple:\", repeated_tuple)  # Output: (1, 2, 3, 4, 5, 1, 2, 3, 4, 5)\n",
    "\n",
    "# 8. Checking if an element exists in a tuple\n",
    "if 3 in my_tuple:\n",
    "    print(\"3 is in the tuple.\")\n",
    "else:\n",
    "    print(\"3 is not in the tuple.\")\n",
    "\n",
    "# 9. Tuple unpacking\n",
    "a, b, c, d, e = my_tuple\n",
    "print(\"Unpacked elements:\")\n",
    "print(\"a =\", a, \"b =\", b, \"c =\", c, \"d =\", d, \"e =\", e)\n",
    "\n",
    "# 10. Length of a tuple\n",
    "print(\"Length of the tuple:\", len(my_tuple))  # Output: 5\n",
    "\n",
    "# 11. Tuple immutability (Attempt to modify an element will raise an error)\n",
    "try:\n",
    "    my_tuple[2] = 10  # This will raise a TypeError\n",
    "except TypeError as e:\n",
    "    print(\"Error:\", e)  # Output: 'tuple' object does not support item assignment\n"
   ]
  },
  {
   "cell_type": "code",
   "execution_count": 9,
   "metadata": {},
   "outputs": [
    {
     "name": "stdout",
     "output_type": "stream",
     "text": [
      "Original Dictionary:\n",
      "{'name': 'A.DAS', 'age': 21, 'courses': ['Math', 'Physics', 'Computer Science'], 'is_enrolled': True}\n",
      "\n",
      "Accessing values:\n",
      "Name: A.DAS\n",
      "Age: 21\n",
      "Courses: ['Math', 'Physics', 'Computer Science']\n",
      "\n",
      "After adding GPA:\n",
      "{'name': 'A.DAS', 'age': 21, 'courses': ['Math', 'Physics', 'Computer Science'], 'is_enrolled': True, 'gpa': 3.75}\n",
      "\n",
      "After updating age:\n",
      "{'name': 'A.DAS', 'age': 22, 'courses': ['Math', 'Physics', 'Computer Science'], 'is_enrolled': True, 'gpa': 3.75}\n",
      "\n",
      "After removing 'is_enrolled':\n",
      "{'name': 'A.DAS', 'age': 22, 'courses': ['Math', 'Physics', 'Computer Science'], 'gpa': 3.75}\n",
      "\n",
      "'gpa' exists in the dictionary with value: 3.75\n",
      "\n",
      "Iterating through the dictionary:\n",
      "name: A.DAS\n",
      "age: 22\n",
      "courses: ['Math', 'Physics', 'Computer Science']\n",
      "gpa: 3.75\n",
      "\n",
      "All keys: dict_keys(['name', 'age', 'courses', 'gpa'])\n",
      "All values: dict_values(['A.DAS', 22, ['Math', 'Physics', 'Computer Science'], 3.75])\n",
      "All items: dict_items([('name', 'A.DAS'), ('age', 22), ('courses', ['Math', 'Physics', 'Computer Science']), ('gpa', 3.75)])\n",
      "\n",
      "Using get() to access non-existing key 'email':\n",
      "Email not found\n",
      "\n",
      "Copy of the dictionary:\n",
      "{'name': 'A.DAS', 'age': 22, 'courses': ['Math', 'Physics', 'Computer Science'], 'gpa': 3.75}\n",
      "\n",
      "After clearing the dictionary:\n",
      "{}\n"
     ]
    }
   ],
   "source": [
    "# Create a dictionary\n",
    "student_info = {\n",
    "    'name': 'A.DAS',\n",
    "    'age': 21,\n",
    "    'courses': ['Math', 'Physics', 'Computer Science'],\n",
    "    'is_enrolled': True\n",
    "}\n",
    "\n",
    "# Print the original dictionary\n",
    "print(\"Original Dictionary:\")\n",
    "print(student_info)\n",
    "\n",
    "# Access values using keys\n",
    "print(\"\\nAccessing values:\")\n",
    "print(\"Name:\", student_info['name'])\n",
    "print(\"Age:\", student_info['age'])\n",
    "print(\"Courses:\", student_info['courses'])\n",
    "\n",
    "# Add a new key-value pair\n",
    "student_info['gpa'] = 3.75\n",
    "print(\"\\nAfter adding GPA:\")\n",
    "print(student_info)\n",
    "\n",
    "# Update an existing key's value\n",
    "student_info['age'] = 22\n",
    "print(\"\\nAfter updating age:\")\n",
    "print(student_info)\n",
    "\n",
    "# Remove a key-value pair\n",
    "del student_info['is_enrolled']\n",
    "print(\"\\nAfter removing 'is_enrolled':\")\n",
    "print(student_info)\n",
    "\n",
    "# Check if a key exists in the dictionary\n",
    "key_to_check = 'gpa'\n",
    "if key_to_check in student_info:\n",
    "    print(f\"\\n'{key_to_check}' exists in the dictionary with value:\", student_info[key_to_check])\n",
    "else:\n",
    "    print(f\"\\n'{key_to_check}' does not exist in the dictionary.\")\n",
    "\n",
    "# Iterate through the dictionary\n",
    "print(\"\\nIterating through the dictionary:\")\n",
    "for key, value in student_info.items():\n",
    "    print(f\"{key}: {value}\")\n",
    "\n",
    "# Get all keys, values, and items\n",
    "print(\"\\nAll keys:\", student_info.keys())\n",
    "print(\"All values:\", student_info.values())\n",
    "print(\"All items:\", student_info.items())\n",
    "\n",
    "# Using get() to safely access a key (no error if key doesn't exist)\n",
    "print(\"\\nUsing get() to access non-existing key 'email':\")\n",
    "print(student_info.get('email', 'Email not found'))\n",
    "\n",
    "# Copy the dictionary\n",
    "student_info_copy = student_info.copy()\n",
    "print(\"\\nCopy of the dictionary:\")\n",
    "print(student_info_copy)\n",
    "\n",
    "# Clear the dictionary (removes all items)\n",
    "student_info.clear()\n",
    "print(\"\\nAfter clearing the dictionary:\")\n",
    "print(student_info)\n"
   ]
  },
  {
   "cell_type": "code",
   "execution_count": 12,
   "metadata": {},
   "outputs": [
    {
     "name": "stdout",
     "output_type": "stream",
     "text": [
      "The largest number is 14.0\n"
     ]
    }
   ],
   "source": [
    "# Python program to find the largest number among the three input numbers\n",
    "\n",
    "num1=float(input(\"Enter first number: \"))\n",
    "\n",
    "num2=float(input(\"Enter second number: \"))\n",
    "\n",
    "num3=float(input(\"Enter third number: \"))\n",
    "\n",
    "if (num1 >= num2) and (num1 >= num3): \n",
    "    largest=num1 \n",
    "elif (num2 >= num1) and (num2 >= num3): \n",
    "    largest=num2\n",
    "else:\n",
    "    largest=num3\n",
    "\n",
    "print(\"The largest number is\", largest)"
   ]
  },
  {
   "cell_type": "code",
   "execution_count": null,
   "metadata": {},
   "outputs": [],
   "source": []
  },
  {
   "cell_type": "code",
   "execution_count": 17,
   "metadata": {},
   "outputs": [
    {
     "name": "stdout",
     "output_type": "stream",
     "text": [
      "Temperature in Fahrenheit: 57.2\n"
     ]
    }
   ],
   "source": [
    "# Wap to convert tempture to celcious and fahrenheit (Formula c=(f-32)(5/9))\n",
    "temp = float(input(\"Enter Temperature: \"))  # Use float to safely input temperature\n",
    "unit = input(\"Enter unit('C' for Celsius or 'F' for Fahrenheit): \")\n",
    "\n",
    "if unit == 'C' or unit == 'c':\n",
    "    newTemp = 9/5 * temp + 32  # Convert Celsius to Fahrenheit\n",
    "    print(\"Temperature in Fahrenheit:\", newTemp)\n",
    "\n",
    "elif unit == 'F' or unit == 'f':\n",
    "    newTemp = 5/9 * (temp - 32)  # Convert Fahrenheit to Celsius\n",
    "    print(\"Temperature in Celsius:\", newTemp)\n",
    "\n",
    "else:\n",
    "    print(\"Unknown unit\", unit)  # Handle invalid input\n"
   ]
  },
  {
   "cell_type": "code",
   "execution_count": 27,
   "metadata": {},
   "outputs": [
    {
     "name": "stdout",
     "output_type": "stream",
     "text": [
      "\n",
      "* \n",
      "* * \n",
      "* * * \n",
      "* * * * \n",
      "* * * * * \n",
      "* * * * \n",
      "* * * \n",
      "* * \n",
      "* \n"
     ]
    }
   ],
   "source": [
    "# Write a python Pattern program\n",
    "#* \n",
    "#* * \n",
    "#* * * \n",
    "#* * * * \n",
    "#* * * * * \n",
    "#* * * * \n",
    "#* * * \n",
    "#* * \n",
    "#*\n",
    " \n",
    "n=5\n",
    "for i in range(n):\n",
    "    for j in range (i):\n",
    "        print(\"* \",end=\"\")\n",
    "    print(\"\")\n",
    "for i in range(n,0,-1):\n",
    "    for j in range(i):\n",
    "        print(\"* \",end=\"\")\n",
    "    print(\"\")"
   ]
  },
  {
   "cell_type": "code",
   "execution_count": 29,
   "metadata": {},
   "outputs": [
    {
     "name": "stdout",
     "output_type": "stream",
     "text": [
      "Prime numbers less than 20:\n",
      "2\n",
      "3\n",
      "5\n",
      "7\n",
      "11\n",
      "13\n",
      "17\n",
      "19\n"
     ]
    }
   ],
   "source": [
    "# Python program to display prime numbers less than 20\n",
    "\n",
    "print(\"Prime numbers less than 20:\")\n",
    "\n",
    "# Check for primes from 2 to 19\n",
    "for num in range(2, 20):\n",
    "    is_prime = True  # Assume the number is prime\n",
    "    for i in range(2, num):\n",
    "        if num % i == 0:  # If divisible by any number, it's not prime\n",
    "            is_prime = False\n",
    "            break\n",
    "    if is_prime:\n",
    "        print(num)\n"
   ]
  },
  {
   "cell_type": "code",
   "execution_count": 30,
   "metadata": {},
   "outputs": [
    {
     "name": "stdout",
     "output_type": "stream",
     "text": [
      "The factorial of 5 is 120\n"
     ]
    }
   ],
   "source": [
    "# Write a python program to find factorial of a no using recursion\n",
    "\n",
    "# Function to calculate factorial using recursion\n",
    "def factorial(n):\n",
    "    if n == 0 or n == 1:  # Base case: factorial of 0 or 1 is 1\n",
    "        return 1\n",
    "    else:\n",
    "        return n * factorial(n - 1)  # Recursive call\n",
    "\n",
    "# Input: Get number from the user\n",
    "num = int(input(\"Enter a number to find its factorial: \"))\n",
    "\n",
    "# Calculate and print the factorial\n",
    "result = factorial(num)\n",
    "print(f\"The factorial of {num} is {result}\")\n"
   ]
  },
  {
   "cell_type": "code",
   "execution_count": 38,
   "metadata": {},
   "outputs": [
    {
     "name": "stdout",
     "output_type": "stream",
     "text": [
      "The Roman numeral for 12 is: XII\n"
     ]
    }
   ],
   "source": [
    "# Write a Python class to convert an integer to a roman Number\n",
    "class py_solution:  \n",
    "    def int_to_Roman(self, num):\n",
    "        # Roman numeral values and symbols\n",
    "        val = [\n",
    "            1000, 900, 500, 400,\n",
    "            100, 90, 50, 40,\n",
    "            10, 9, 5, 4,\n",
    "            1\n",
    "        ]\n",
    "        syb = [\"M\", \"CM\", \"D\", \"CD\",\n",
    "               \"C\", \"XC\", \"L\", \"XL\",\n",
    "               \"X\", \"IX\", \"V\", \"IV\",\n",
    "               \"I\"]\n",
    "        \n",
    "        roman_num = ''\n",
    "        i = 0\n",
    "        \n",
    "        # Loop through each value in the val list\n",
    "        while num > 0:\n",
    "            # Check how many times the current value fits into num\n",
    "            while num >= val[i]:\n",
    "                roman_num += syb[i]  # Add the Roman symbol to the result\n",
    "                num -= val[i]  # Subtract the value from num\n",
    "            i += 1\n",
    "        \n",
    "        return roman_num\n",
    "\n",
    "# Get input from the user\n",
    "num = int(input(\"Enter an integer to convert to Roman numeral: \"))\n",
    "\n",
    "# Print the Roman numeral conversion\n",
    "print(f\"The Roman numeral for {num} is: {py_solution().int_to_Roman(num)}\")\n"
   ]
  },
  {
   "cell_type": "code",
   "execution_count": 39,
   "metadata": {},
   "outputs": [
    {
     "name": "stdout",
     "output_type": "stream",
     "text": [
      "3.0 raised to the power of 2 is 9.0\n"
     ]
    }
   ],
   "source": [
    "# Write a Python Class to implement power(x,n)\n",
    "class PowerCalculator:\n",
    "    def power(self, x, n):\n",
    "        \"\"\"Calculate x raised to the power of n.\"\"\"\n",
    "        if n == 0:\n",
    "            return 1  # Base case: any number raised to the power of 0 is 1\n",
    "        elif n > 0:\n",
    "            result = 1\n",
    "            for _ in range(n):\n",
    "                result *= x  # Multiply x, n times\n",
    "            return result\n",
    "        else:\n",
    "            result = 1\n",
    "            for _ in range(-n):\n",
    "                result *= x  # Multiply x, |n| times\n",
    "            return 1 / result  # If n is negative, return 1 / (x^|n|)\n",
    "\n",
    "# Example usage:\n",
    "calculator = PowerCalculator()\n",
    "\n",
    "x = float(input(\"Enter the base (x): \"))\n",
    "n = int(input(\"Enter the exponent (n): \"))\n",
    "\n",
    "result = calculator.power(x, n)\n",
    "print(f\"{x} raised to the power of {n} is {result}\")"
   ]
  },
  {
   "cell_type": "code",
   "execution_count": 40,
   "metadata": {},
   "outputs": [
    {
     "name": "stdout",
     "output_type": "stream",
     "text": [
      "Reversed string (word by word): KHUNTIA JYOTI\n"
     ]
    }
   ],
   "source": [
    "# Write a Python Class to reverse a string word by word.\n",
    "class StringReversal:\n",
    "    def reverse_words(self, input_string):\n",
    "        \"\"\"Reverse the words in the input string.\"\"\"\n",
    "        # Split the string into a list of words\n",
    "        words = input_string.split()\n",
    "        \n",
    "        # Reverse the list of words\n",
    "        words.reverse()\n",
    "        \n",
    "        # Join the reversed words back into a single string\n",
    "        reversed_string = ' '.join(words)\n",
    "        \n",
    "        return reversed_string\n",
    "\n",
    "# Example usage:\n",
    "string_reversal = StringReversal()\n",
    "\n",
    "# Get input from the user\n",
    "input_string = input(\"Enter a string: \")\n",
    "\n",
    "# Reverse the words in the string\n",
    "reversed_string = string_reversal.reverse_words(input_string)\n",
    "\n",
    "# Print the reversed string\n",
    "print(\"Reversed string (word by word):\", reversed_string)\n"
   ]
  },
  {
   "cell_type": "code",
   "execution_count": null,
   "metadata": {},
   "outputs": [],
   "source": []
  }
 ],
 "metadata": {
  "kernelspec": {
   "display_name": "Python 3",
   "language": "python",
   "name": "python3"
  },
  "language_info": {
   "codemirror_mode": {
    "name": "ipython",
    "version": 3
   },
   "file_extension": ".py",
   "mimetype": "text/x-python",
   "name": "python",
   "nbconvert_exporter": "python",
   "pygments_lexer": "ipython3",
   "version": "3.12.7"
  }
 },
 "nbformat": 4,
 "nbformat_minor": 2
}
