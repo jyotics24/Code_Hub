{
 "cells": [
  {
   "cell_type": "code",
   "execution_count": 1,
   "metadata": {},
   "outputs": [
    {
     "name": "stdout",
     "output_type": "stream",
     "text": [
      "python is a programming language\n",
      "python is a programming language\n",
      "python\n",
      "is a programming\n",
      "language\n",
      "python\n",
      "is a\n",
      "programming\n",
      "langauge\n",
      "python is \"easy\" language\n",
      "python is 'easy' language\n",
      "python is \"easy\" language\n",
      "python is 'easy' language\n",
      "123\n",
      "1.5\n",
      "(1+2j)\n",
      "naresh\n",
      "\n",
      "[10, 20, 30, 40]\n"
     ]
    }
   ],
   "source": [
    "# String Data Structure\n",
    "# Example of creating string\n",
    "s1='python is a programming language'\n",
    "s2=\"python is a programming language\"\n",
    "s3='''python\n",
    "is a programming\n",
    "language'''\n",
    "s4=\"\"\"python\n",
    "is a\n",
    "programming\n",
    "langauge\"\"\"\n",
    "\n",
    "print(s1,s2,s3,s4,sep=\"\\n\")\n",
    "s5='python is \"easy\" language'\n",
    "print(s5)\n",
    "s6=\"python is 'easy' language\"\n",
    "print(s6)\n",
    "s7=str(123)\n",
    "s8=str(1.5)\n",
    "s9=str(1+2j)\n",
    "s10=str(\"naresh\")\n",
    "s11=str() # empty string\n",
    "s12=str([10,20,30,40])\n",
    "print(s5,s6,s7,s8,s9,s10,s11,s12,sep=\"\\n\")"
   ]
  },
  {
   "cell_type": "code",
   "execution_count": 3,
   "metadata": {},
   "outputs": [
    {
     "name": "stdout",
     "output_type": "stream",
     "text": [
      "MADAM is palindrome\n"
     ]
    }
   ],
   "source": [
    "# Wap to check a string is palindrome or not\n",
    "str1=input(\"Enter any string \")\n",
    "str2=str1[::-1]\n",
    "if str1==str2:\n",
    "    print(f'{str1} is palindrome')\n",
    "else:\n",
    "    print(f'{str1} is not  palindrome')"
   ]
  },
  {
   "cell_type": "code",
   "execution_count": 4,
   "metadata": {},
   "outputs": [
    {
     "name": "stdout",
     "output_type": "stream",
     "text": [
      "my name is jyoti\n",
      "jyoti is name my\n"
     ]
    }
   ],
   "source": [
    "# Reverse Words In String\n",
    "str1=\"my name is jyoti\"\n",
    "list1=str1.split()\n",
    "list1=list1[::-1]\n",
    "str2=\" \".join(list1)\n",
    "print(str1)\n",
    "print(str2)\n"
   ]
  },
  {
   "cell_type": "code",
   "execution_count": 7,
   "metadata": {},
   "outputs": [
    {
     "name": "stdout",
     "output_type": "stream",
     "text": [
      "Alpha Count 7\n",
      "Digit Count 2\n",
      "Special Character Count 2\n",
      "End\n"
     ]
    }
   ],
   "source": [
    "# Write a program to input string and count alphabets, digits and sepcial characters \n",
    "str1=input(\"Enter any string \")\n",
    "ac,dc,sc=0,0,0\n",
    "for ch in str1:\n",
    "    if ch>='A' and ch<='Z' or ch>='a' and ch<='z':\n",
    "        ac=ac+1\n",
    "    elif ch>='0' and ch<='9':\n",
    "        dc+=1\n",
    "    else:\n",
    "        sc+=1\n",
    "\n",
    "print(f'Alpha Count {ac}')\n",
    "print(f'Digit Count {dc}')\n",
    "print(f'Special Character Count {sc}')\n",
    "print(\"End\")"
   ]
  },
  {
   "cell_type": "code",
   "execution_count": 14,
   "metadata": {},
   "outputs": [
    {
     "name": "stdout",
     "output_type": "stream",
     "text": [
      "RADDAR\n",
      "RAD\n",
      "[(2, 'R'), (2, 'A'), (2, 'D')]\n",
      "(2, 'A')\n",
      "(2, 'R')\n"
     ]
    }
   ],
   "source": [
    "# Takes a string input from the user.\n",
    "# Use These operation\n",
    "# Original string\n",
    "# only unique characters\n",
    "# Count the repeat of charcter\n",
    "str1=input(\"Enter any String \")\n",
    "str2=\"\"\n",
    "for ch in str1:\n",
    "    if ch not in str2:\n",
    "        str2=str2+ch\n",
    "\n",
    "print(str1)\n",
    "print(str2)\n",
    "\n",
    "list1=[]\n",
    "for ch in str2:\n",
    "    c=str1.count(ch)\n",
    "    list1.append((c,ch))\n",
    "\n",
    "print(list1)\n",
    "print(min(list1))\n",
    "print(max(list1))\n"
   ]
  },
  {
   "cell_type": "code",
   "execution_count": 15,
   "metadata": {},
   "outputs": [
    {
     "name": "stdout",
     "output_type": "stream",
     "text": [
      "python\n",
      "PYTHON\n",
      "End\n"
     ]
    }
   ],
   "source": [
    "# Write a program to input string and convert into uppercase\n",
    "str1=input(\"Enter any String \")\n",
    "str2=str() # empty string\n",
    "for ch in str1:\n",
    "    if ch>='a' and ch<='z':\n",
    "        ch=chr(ord(ch)-32)\n",
    "        str2=str2+ch\n",
    "    else:\n",
    "        str2=str2+ch\n",
    "\n",
    "print(str1)\n",
    "print(str2)\n",
    "print(\"End\")"
   ]
  },
  {
   "cell_type": "code",
   "execution_count": 17,
   "metadata": {},
   "outputs": [
    {
     "name": "stdout",
     "output_type": "stream",
     "text": [
      "PYTHON\n",
      "Python\n",
      "End\n"
     ]
    }
   ],
   "source": [
    "# Write a program to capitalize string\n",
    "str1=input(\"Enter any String \")\n",
    "str2=str() # empty string\n",
    "\n",
    "for i in range(len(str1)):\n",
    "    if i==0:\n",
    "        if str1[i]>='a' and str1[i]<='z':\n",
    "            str2=str2+chr(ord(str1[i])-32)\n",
    "        else:\n",
    "            str2=str2+str1[i]\n",
    "    elif str1[i]>='A' and str1[i]<='Z':\n",
    "        str2=str2+chr(ord(str1[i])+32)\n",
    "    else:\n",
    "        str2=str2+str1[i]\n",
    "\n",
    "print(str1)\n",
    "print(str2)\n",
    "print(\"End\")"
   ]
  },
  {
   "cell_type": "code",
   "execution_count": 18,
   "metadata": {},
   "outputs": [
    {
     "name": "stdout",
     "output_type": "stream",
     "text": [
      "Reversed string: NOHTYP\n",
      "End\n"
     ]
    }
   ],
   "source": [
    "# Write a Python program to reverse a string.\n",
    "str1 = input(\"Enter a string: \")\n",
    "reversed_str = \"\"\n",
    "for i in range(len(str1)-1, -1, -1):\n",
    "    reversed_str += str1[i]\n",
    "print(\"Reversed string:\", reversed_str)\n",
    "print(\"End\")"
   ]
  },
  {
   "cell_type": "code",
   "execution_count": null,
   "metadata": {},
   "outputs": [
    {
     "name": "stdout",
     "output_type": "stream",
     "text": [
      "Number of vowels in the string: 1\n",
      "End\n"
     ]
    }
   ],
   "source": [
    "# Write a Python program to count the number of vowels in a string\n",
    "str1 = input(\"Enter a string: \")\n",
    "vowel_count = 0\n",
    "vowels = \"aeiouAEIOU\"\n",
    "\n",
    "for ch in str1:\n",
    "    if ch in vowels:\n",
    "        vowel_count += 1\n",
    "\n",
    "print(\"Number of vowels in the string:\", vowel_count)\n",
    "print(\"End\")"
   ]
  },
  {
   "cell_type": "code",
   "execution_count": null,
   "metadata": {},
   "outputs": [
    {
     "name": "stdout",
     "output_type": "stream",
     "text": [
      "The string contains non-digit characters.\n"
     ]
    }
   ],
   "source": [
    "# Write a Python program to check if a string contains only digit\n",
    "str1 = input(\"Enter a string: \")\n",
    "is_digit = True\n",
    "\n",
    "for ch in str1:\n",
    "    if ch < '0' or ch > '9':  # Check if the character is not a digit\n",
    "        is_digit = False\n",
    "        break\n",
    "\n",
    "if is_digit:\n",
    "    print(\"The string contains only digits.\")\n",
    "else:\n",
    "    print(\"The string contains non-digit characters.\")\n"
   ]
  },
  {
   "cell_type": "code",
   "execution_count": 23,
   "metadata": {},
   "outputs": [
    {
     "name": "stdout",
     "output_type": "stream",
     "text": [
      "Capitalized sentence: Python Is Easy Language\n",
      "End\n"
     ]
    }
   ],
   "source": [
    "# Write a Python program to capitalize the first letter of each word in a sentence.\n",
    "s = input(\"Enter a sentence: \")\n",
    "words = s.split()\n",
    "\n",
    "capitalized_sentence = ' '.join([word.capitalize() for word in words])\n",
    "\n",
    "print(\"Capitalized sentence:\", capitalized_sentence)\n",
    "print(\"End\")"
   ]
  },
  {
   "cell_type": "code",
   "execution_count": 28,
   "metadata": {},
   "outputs": [
    {
     "name": "stdout",
     "output_type": "stream",
     "text": [
      "Before word swap :python is easy language\n",
      "Reversed sentence: language easy is python\n",
      "End\n"
     ]
    }
   ],
   "source": [
    "# Write a Python program to reverse the order of words in a sentence\n",
    "\n",
    "s = input(\"Enter a sentence: \")\n",
    "print(f\"Before word swap :{s}\")\n",
    "# Split the sentence into words\n",
    "w = s.split()\n",
    "# Reverse the order of words and join them back into a sentence\n",
    "r_s = ' '.join(w[::-1])\n",
    "\n",
    "print(\"Reversed sentence:\", r_s)\n",
    "print(\"End\")"
   ]
  },
  {
   "cell_type": "code",
   "execution_count": 30,
   "metadata": {},
   "outputs": [
    {
     "name": "stdout",
     "output_type": "stream",
     "text": [
      "End\n"
     ]
    }
   ],
   "source": [
    "print(\"End\")"
   ]
  }
 ],
 "metadata": {
  "kernelspec": {
   "display_name": "Python 3",
   "language": "python",
   "name": "python3"
  },
  "language_info": {
   "codemirror_mode": {
    "name": "ipython",
    "version": 3
   },
   "file_extension": ".py",
   "mimetype": "text/x-python",
   "name": "python",
   "nbconvert_exporter": "python",
   "pygments_lexer": "ipython3",
   "version": "3.12.7"
  }
 },
 "nbformat": 4,
 "nbformat_minor": 2
}
