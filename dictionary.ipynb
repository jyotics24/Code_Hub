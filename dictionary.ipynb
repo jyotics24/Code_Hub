{
 "cells": [
  {
   "cell_type": "code",
   "execution_count": 1,
   "metadata": {},
   "outputs": [
    {
     "name": "stdout",
     "output_type": "stream",
     "text": [
      "{} <class 'dict'>\n"
     ]
    }
   ],
   "source": [
    "# Dictionary Data Structure\n",
    "# Empty dictionary is created using empty curly braces {}\n",
    "dict1={}\n",
    "print(dict1,type(dict1))"
   ]
  },
  {
   "cell_type": "code",
   "execution_count": 2,
   "metadata": {},
   "outputs": [
    {
     "name": "stdout",
     "output_type": "stream",
     "text": [
      "{1: 10, 2: 20, 3: 30, 4: 40, 5: 50}\n"
     ]
    }
   ],
   "source": [
    "# dict have key and value pair\n",
    "dict2={1:10,2:20,3:30,4:40,5:50}\n",
    "print(dict2)"
   ]
  },
  {
   "cell_type": "code",
   "execution_count": 6,
   "metadata": {},
   "outputs": [
    {
     "name": "stdout",
     "output_type": "stream",
     "text": [
      "******Login*******\n",
      "invalid username try again...\n",
      "******Login*******\n",
      "jyoti_cs welcome\n",
      "End\n"
     ]
    }
   ],
   "source": [
    "# Login Application\n",
    "users={'jyoti_cs':'J123',\n",
    "       'A.das':'A123',\n",
    "       'B.das':'B123',\n",
    "       'M.panda':'M123'}\n",
    "\n",
    "while True:\n",
    "    print(\"******Login*******\")\n",
    "    uname=input(\"UserName :\")\n",
    "    pwd=input(\"Password :\")\n",
    "    if uname in users:\n",
    "        p=users[uname]\n",
    "        if pwd==p:\n",
    "            print(f'{uname} welcome')\n",
    "            break\n",
    "        else:\n",
    "            print(\"invalid password try again...\")\n",
    "    else:\n",
    "        print(\"invalid username try again...\")\n",
    "print(\"End\")"
   ]
  },
  {
   "cell_type": "code",
   "execution_count": 11,
   "metadata": {},
   "outputs": [
    {
     "name": "stdout",
     "output_type": "stream",
     "text": [
      "{'a.das': 56, 'b.das': 45, 'c.das': 56}\n",
      "Total Score 157\n",
      "Max Score 56\n",
      "Min Score 45\n",
      "End\n"
     ]
    }
   ],
   "source": [
    "# Write  a program to read scores of \"n\" players and display\n",
    "\n",
    "players={}\n",
    "n=int(input(\"Enter how many players?\"))\n",
    "\n",
    "for i in range(n):\n",
    "    name=input(\"Player Name :\")\n",
    "    score=int(input(\"Player Score :\"))\n",
    "    players[name]=score\n",
    "\n",
    "print(players)\n",
    "scores=players.values()\n",
    "total=sum(scores)\n",
    "print(f'Total Score {total}')\n",
    "max_score=max(scores)\n",
    "print(f'Max Score {max_score}')\n",
    "min_score=min(scores)\n",
    "print(f'Min Score {min_score}')\n",
    "print(\"End\")"
   ]
  },
  {
   "cell_type": "code",
   "execution_count": 16,
   "metadata": {},
   "outputs": [
    {
     "name": "stdout",
     "output_type": "stream",
     "text": [
      "1. Add Contact\n",
      "2. Update Contact\n",
      "3. Remove Contact\n",
      "4. Search Contact\n",
      "5. View Contacts\n",
      "6. Exit\n",
      "contact added...\n",
      "1. Add Contact\n",
      "2. Update Contact\n",
      "3. Remove Contact\n",
      "4. Search Contact\n",
      "5. View Contacts\n",
      "6. Exit\n",
      "Jyoti--->8260654295\n",
      "1. Add Contact\n",
      "2. Update Contact\n",
      "3. Remove Contact\n",
      "4. Search Contact\n",
      "5. View Contacts\n",
      "6. Exit\n",
      "End\n"
     ]
    }
   ],
   "source": [
    "# Creating contacts application\n",
    "\n",
    "contacts={}\n",
    "while True:\n",
    "    print(\"1. Add Contact\")\n",
    "    print(\"2. Update Contact\")\n",
    "    print(\"3. Remove Contact\")\n",
    "    print(\"4. Search Contact\")\n",
    "    print(\"5. View Contacts\")\n",
    "    print(\"6. Exit\")\n",
    "    opt=int(input(\"Enter Your Option \"))\n",
    "    if opt==1:\n",
    "        name=input(\"Name :\")\n",
    "        if name in contacts:\n",
    "            print(\"contact exists\")\n",
    "        else:\n",
    "            number=int(input(\"Number :\"))\n",
    "            contacts[name]=number\n",
    "            print(\"contact added...\")\n",
    "    elif opt==2:\n",
    "        name=input(\"Name :\")\n",
    "        if name in contacts:\n",
    "            number=int(input(\"Number :\"))\n",
    "            contacts[name]=number\n",
    "            print(\"contact updated...\")\n",
    "        else:\n",
    "            print(\"contact not exists...\")\n",
    "    elif opt==3:\n",
    "        name=input(\"Name :\")\n",
    "        if name in contacts:\n",
    "            del contacts[name]\n",
    "            print(\"contact removed...\")\n",
    "        else:\n",
    "            print(\"contact not exists\")\n",
    "    elif opt==4:\n",
    "        name=input(\"Name :\")\n",
    "        if name in contacts:\n",
    "            print(f'{name} --> {contacts[name]}')\n",
    "        else:\n",
    "            print(\"contact not exists\")\n",
    "    elif opt==5:\n",
    "        for k,v in contacts.items():\n",
    "            print(f'{k}--->{v}')\n",
    "    elif opt==6:\n",
    "        break\n",
    "print(\"End\")"
   ]
  },
  {
   "cell_type": "code",
   "execution_count": 18,
   "metadata": {},
   "outputs": [
    {
     "name": "stdout",
     "output_type": "stream",
     "text": [
      "{1: 1, 2: 4, 3: 9, 4: 16, 5: 25, 6: 36, 7: 49, 8: 64, 9: 81, 10: 100}\n",
      "{1: 1, 2: 4, 3: 9, 4: 16, 5: 25, 6: 36, 7: 49, 8: 64, 9: 81, 10: 100}\n"
     ]
    }
   ],
   "source": [
    "# Creating a dictionary with key as number and value as sqr of number\n",
    "# Without comprehension\n",
    "dict1={}\n",
    "for num in range(1,11):\n",
    "    dict1[num]=num**2\n",
    "print(dict1)\n",
    "# with comprehension\n",
    "dict2={num:num**2 for num in range(1,11)}\n",
    "print(dict2)\n"
   ]
  },
  {
   "cell_type": "code",
   "execution_count": 21,
   "metadata": {},
   "outputs": [
    {
     "name": "stdout",
     "output_type": "stream",
     "text": [
      "{65: 'A', 66: 'B', 67: 'C', 68: 'D', 69: 'E', 70: 'F', 71: 'G', 72: 'H', 73: 'I', 74: 'J', 75: 'K', 76: 'L', 77: 'M', 78: 'N', 79: 'O', 80: 'P', 81: 'Q', 82: 'R', 83: 'S', 84: 'T', 85: 'U', 86: 'V', 87: 'W', 88: 'X', 89: 'Y', 90: 'Z'}\n",
      "A\n",
      "{97: 'a', 98: 'b', 99: 'c', 100: 'd', 101: 'e', 102: 'f', 103: 'g', 104: 'h', 105: 'i', 106: 'j', 107: 'k', 108: 'l', 109: 'm', 110: 'n', 111: 'o', 112: 'p', 113: 'q', 114: 'r', 115: 's', 116: 't', 117: 'u', 118: 'v', 119: 'w', 120: 'x', 121: 'y', 122: 'z'}\n",
      "End\n"
     ]
    }
   ],
   "source": [
    "# Wap show ASCII Chart\n",
    "dict1={num:chr(num) for num in range(65,91)}\n",
    "print(dict1)\n",
    "print(dict1[65])\n",
    "dict2={num:chr(num) for num in range(97,123)}\n",
    "print(dict2)\n",
    "print(\"End\")"
   ]
  },
  {
   "cell_type": "code",
   "execution_count": null,
   "metadata": {},
   "outputs": [
    {
     "name": "stdout",
     "output_type": "stream",
     "text": [
      "{'a.das': 12000, 'b.das': 12000}\n",
      "End\n"
     ]
    }
   ],
   "source": [
    "# Write a program to read sales of n sales person\n",
    "\n",
    "n=int(input(\"Enter How Many Sales Persons ?\"))\n",
    "sales={input(\"Name :\"):int(input(\"Sales :\")) for i in range(n)}\n",
    "print(sales)\n",
    "print(\"End\")"
   ]
  },
  {
   "cell_type": "code",
   "execution_count": null,
   "metadata": {},
   "outputs": [],
   "source": []
  }
 ],
 "metadata": {
  "kernelspec": {
   "display_name": "Python 3",
   "language": "python",
   "name": "python3"
  },
  "language_info": {
   "codemirror_mode": {
    "name": "ipython",
    "version": 3
   },
   "file_extension": ".py",
   "mimetype": "text/x-python",
   "name": "python",
   "nbconvert_exporter": "python",
   "pygments_lexer": "ipython3",
   "version": "3.12.7"
  }
 },
 "nbformat": 4,
 "nbformat_minor": 2
}
