{
 "cells": [
  {
   "cell_type": "code",
   "execution_count": 1,
   "metadata": {},
   "outputs": [
    {
     "name": "stdout",
     "output_type": "stream",
     "text": [
      "inside fun1\n",
      "inside fun2\n",
      "inside fun3\n",
      "inside fun1\n"
     ]
    }
   ],
   "source": [
    "# Function\n",
    "# Create a function and call \n",
    "def fun1():\n",
    "    print(\"inside fun1\")\n",
    "\n",
    "def fun2():\n",
    "    print(\"inside fun2\")\n",
    "\n",
    "def fun3():\n",
    "    print(\"inside fun3\")\n",
    "\n",
    "fun1()\n",
    "fun2()\n",
    "fun3()\n",
    "fun1()"
   ]
  },
  {
   "cell_type": "code",
   "execution_count": null,
   "metadata": {},
   "outputs": [
    {
     "name": "stdout",
     "output_type": "stream",
     "text": [
      "Sum of 10 and 20 is 30\n",
      "Diff of 10 and 20 is -10\n",
      "Product of 10 and 20 is 200\n",
      "Division of 10 and 20 is 0.5\n"
     ]
    }
   ],
   "source": [
    "# Write a program show math operation using function\n",
    "def add():\n",
    "    print(f'Sum of {num1} and {num2} is {num1+num2}')\n",
    "def sub():\n",
    "    print(f'Diff of {num1} and {num2} is {num1-num2}')\n",
    "def multiply(): \n",
    "    print(f'Product of {num1} and {num2} is {num1*num2}')\n",
    "def div():\n",
    "    print(f'Division of {num1} and {num2} is {num1/num2}')\n",
    "\n",
    "\n",
    "num1=int(input(\"Enter First Number \"))\n",
    "num2=int(input(\"Enter Second Number \"))\n",
    "add()\n",
    "sub()\n",
    "multiply()\n",
    "div()"
   ]
  },
  {
   "cell_type": "code",
   "execution_count": 7,
   "metadata": {},
   "outputs": [
    {
     "name": "stdout",
     "output_type": "stream",
     "text": [
      "The maximum number is: 14\n",
      "End\n"
     ]
    }
   ],
   "source": [
    "# Wap Function to find the maximum of three numbers\n",
    "def find_max(num1, num2, num3):\n",
    "    return max(num1, num2, num3)\n",
    "\n",
    "num1 = eval(input(\"Enter first number: \"))\n",
    "num2 = eval(input(\"Enter second number: \"))\n",
    "num3 = eval(input(\"Enter third number: \"))\n",
    "\n",
    "# Call the function and print the result\n",
    "print(\"The maximum number is:\", find_max(num1, num2, num3))\n",
    "print(\"End\")\n"
   ]
  },
  {
   "cell_type": "code",
   "execution_count": 8,
   "metadata": {},
   "outputs": [
    {
     "name": "stdout",
     "output_type": "stream",
     "text": [
      "The sum of all numbers in the list is: 150\n"
     ]
    }
   ],
   "source": [
    "# Write a Python function to sum all the numbers in a list.\n",
    "def sum_of_numbers(numbers):\n",
    "    return sum(numbers)\n",
    "numbers = [10, 20, 30, 40, 50]\n",
    "\n",
    "# Call the function and print the result\n",
    "result = sum_of_numbers(numbers)\n",
    "print(\"The sum of all numbers in the list is:\", result)\n"
   ]
  },
  {
   "cell_type": "code",
   "execution_count": 9,
   "metadata": {},
   "outputs": [
    {
     "name": "stdout",
     "output_type": "stream",
     "text": [
      "Reversed string: nohtyp\n"
     ]
    }
   ],
   "source": [
    "# Write a Python program to reverse a string\n",
    "def reverse_string(s):\n",
    "    return s[::-1]\n",
    "str1 = input(\"Enter a string: \")\n",
    "# Function call\n",
    "reversed_str = reverse_string(str1)\n",
    "print(\"Reversed string:\", reversed_str)"
   ]
  },
  {
   "cell_type": "code",
   "execution_count": 10,
   "metadata": {},
   "outputs": [
    {
     "name": "stdout",
     "output_type": "stream",
     "text": [
      "The factorial of 5 is: 120\n"
     ]
    }
   ],
   "source": [
    "# wap to calculate the factorial of a number\n",
    "def factorial(n):\n",
    "    if n == 0 or n == 1:  # Factorial of 0 and 1 is 1\n",
    "        return 1\n",
    "    result = 1\n",
    "    for i in range(1, n + 1):\n",
    "        result *= i\n",
    "    return result\n",
    "\n",
    "num = int(input(\"Enter a non-negative integer: \"))\n",
    "\n",
    "if num < 0:\n",
    "    print(\"Factorial is not defined for negative numbers.\")\n",
    "else:\n",
    "    print(f\"The factorial of {num} is: {factorial(num)}\")"
   ]
  },
  {
   "cell_type": "code",
   "execution_count": 11,
   "metadata": {},
   "outputs": [
    {
     "name": "stdout",
     "output_type": "stream",
     "text": [
      "15 is within the range 10 to 20.\n"
     ]
    }
   ],
   "source": [
    "# wap to check whether a number is within a given range\n",
    "def is_within_range(num, lower, upper):\n",
    "    if lower <= num <= upper:\n",
    "        return True\n",
    "    else:\n",
    "        return False\n",
    "\n",
    "num = int(input(\"Enter a number: \"))\n",
    "lower = int(input(\"Enter the lower bound of the range: \"))\n",
    "upper = int(input(\"Enter the upper bound of the range: \"))\n",
    "\n",
    "if is_within_range(num, lower, upper):\n",
    "    print(f\"{num} is within the range {lower} to {upper}.\")\n",
    "else:\n",
    "    print(f\"{num} is outside the range {lower} to {upper}.\")\n"
   ]
  },
  {
   "cell_type": "code",
   "execution_count": null,
   "metadata": {},
   "outputs": [
    {
     "name": "stdout",
     "output_type": "stream",
     "text": [
      "PythOn\n",
      "Uppercase letters: 2\n",
      "Lowercase letters: 4\n"
     ]
    }
   ],
   "source": [
    "# wap to count uppercase and lowercase letters in a string\n",
    "def count_case(s):\n",
    "    upper_count = 0\n",
    "    lower_count = 0\n",
    "    \n",
    "    for char in s:\n",
    "        if char.isupper():\n",
    "            upper_count += 1\n",
    "        elif char.islower():\n",
    "            lower_count += 1\n",
    "    \n",
    "    return upper_count, lower_count\n",
    "\n",
    "sample_string = input(\"Enter a string: \")\n",
    "print(sample_string)\n",
    "\n",
    "upper, lower = count_case(sample_string)\n",
    "print(f\"Uppercase letters: {upper}\")\n",
    "print(f\"Lowercase letters: {lower}\")"
   ]
  }
 ],
 "metadata": {
  "kernelspec": {
   "display_name": "Python 3",
   "language": "python",
   "name": "python3"
  },
  "language_info": {
   "codemirror_mode": {
    "name": "ipython",
    "version": 3
   },
   "file_extension": ".py",
   "mimetype": "text/x-python",
   "name": "python",
   "nbconvert_exporter": "python",
   "pygments_lexer": "ipython3",
   "version": "3.12.7"
  }
 },
 "nbformat": 4,
 "nbformat_minor": 2
}
